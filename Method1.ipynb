{
 "cells": [
  {
   "cell_type": "code",
   "execution_count": 1,
   "metadata": {},
   "outputs": [
    {
     "ename": "SyntaxError",
     "evalue": "invalid syntax (<ipython-input-1-9fcbbc4c2cc5>, line 22)",
     "output_type": "error",
     "traceback": [
      "\u001b[0;36m  File \u001b[0;32m\"<ipython-input-1-9fcbbc4c2cc5>\"\u001b[0;36m, line \u001b[0;32m22\u001b[0m\n\u001b[0;31m    from chamfer_distance import\u001b[0m\n\u001b[0m                                 ^\u001b[0m\n\u001b[0;31mSyntaxError\u001b[0m\u001b[0;31m:\u001b[0m invalid syntax\n"
     ]
    }
   ],
   "source": [
    "%load_ext autoreload\n",
    "%autoreload 2\n",
    "\n",
    "import json\n",
    "import numpy as np\n",
    "import os\n",
    "import time\n",
    "import skimage.measure\n",
    "import subprocess\n",
    "import random\n",
    "from tqdm import tqdm_notebook\n",
    "import matplotlib.pyplot as plt\n",
    "%matplotlib inline\n",
    "\n",
    "import torch\n",
    "from sklearn.neighbors import KDTree\n",
    "\n",
    "from mayavi import mlab\n",
    "import plyfile\n",
    "from pyntcloud import PyntCloud\n",
    "from plyfile import PlyData\n",
    "from chamfer_distance import \n",
    "\n",
    "import deep_sdf\n",
    "import deep_sdf.workspace as ws\n",
    "from reconstruct import reconstruct"
   ]
  },
  {
   "cell_type": "code",
   "execution_count": 84,
   "metadata": {},
   "outputs": [],
   "source": [
    "def create_mesh(\n",
    "    decoder, latent_vec, filename='', N=256, max_batch=32 ** 3, offset=None, scale=None\n",
    "):\n",
    "    start = time.time()\n",
    "    ply_filename = filename\n",
    "\n",
    "    decoder.eval()\n",
    "\n",
    "    # NOTE: the voxel_origin is actually the (bottom, left, down) corner, not the middle\n",
    "    voxel_origin = [-1, -1, -1]\n",
    "    voxel_size = 2.0 / (N - 1)\n",
    "\n",
    "    overall_index = torch.arange(0, N ** 3, 1, out=torch.LongTensor())\n",
    "    samples = torch.zeros(N ** 3, 4)\n",
    "\n",
    "    # transform first 3 columns\n",
    "    # to be the x, y, z index\n",
    "    samples[:, 2] = overall_index % N\n",
    "    samples[:, 1] = (overall_index.long() / N) % N\n",
    "    samples[:, 0] = ((overall_index.long() / N) / N) % N\n",
    "\n",
    "    # transform first 3 columns\n",
    "    # to be the x, y, z coordinate\n",
    "    samples[:, 0] = (samples[:, 0] * voxel_size) + voxel_origin[2]\n",
    "    samples[:, 1] = (samples[:, 1] * voxel_size) + voxel_origin[1]\n",
    "    samples[:, 2] = (samples[:, 2] * voxel_size) + voxel_origin[0]\n",
    "\n",
    "    num_samples = N ** 3\n",
    "\n",
    "    samples.requires_grad = False\n",
    "\n",
    "    head = 0\n",
    "\n",
    "    while head < num_samples:\n",
    "        sample_subset = samples[head : min(head + max_batch, num_samples), 0:3].cuda()\n",
    "\n",
    "        samples[head : min(head + max_batch, num_samples), 3] = (\n",
    "            deep_sdf.utils.decode_sdf(decoder, latent_vec, sample_subset)\n",
    "            .squeeze(1)\n",
    "            .detach()\n",
    "            .cpu()\n",
    "        )\n",
    "        head += max_batch\n",
    "\n",
    "    sdf_values = samples[:, 3]\n",
    "    sdf_values = sdf_values.reshape(N, N, N)\n",
    "\n",
    "    end = time.time()\n",
    "    print(\"sampling takes: %f\" % (end - start))\n",
    "\n",
    "    return convert_sdf_samples_to_ply(\n",
    "        sdf_values.data.cpu(),\n",
    "        voxel_origin,\n",
    "        voxel_size,\n",
    "        ply_filename + \".ply\",\n",
    "        offset,\n",
    "        scale,\n",
    "    )\n",
    "\n",
    "\n",
    "def convert_sdf_samples_to_ply(\n",
    "    pytorch_3d_sdf_tensor,\n",
    "    voxel_grid_origin,\n",
    "    voxel_size,\n",
    "    ply_filename_out,\n",
    "    offset=None,\n",
    "    scale=None,\n",
    "):\n",
    "    \"\"\"\n",
    "    Convert sdf samples to .ply\n",
    "\n",
    "    :param pytorch_3d_sdf_tensor: a torch.FloatTensor of shape (n,n,n)\n",
    "    :voxel_grid_origin: a list of three floats: the bottom, left, down origin of the voxel grid\n",
    "    :voxel_size: float, the size of the voxels\n",
    "    :ply_filename_out: string, path of the filename to save to\n",
    "\n",
    "    This function adapted from: https://github.com/RobotLocomotion/spartan\n",
    "    \"\"\"\n",
    "    start_time = time.time()\n",
    "\n",
    "    numpy_3d_sdf_tensor = pytorch_3d_sdf_tensor.numpy()\n",
    "\n",
    "    verts, faces, normals, values = skimage.measure.marching_cubes_lewiner(\n",
    "        numpy_3d_sdf_tensor, level=0.0, spacing=[voxel_size] * 3\n",
    "    )\n",
    "\n",
    "    # transform from voxel coordinates to camera coordinates\n",
    "    # note x and y are flipped in the output of marching_cubes\n",
    "    mesh_points = np.zeros_like(verts)\n",
    "    mesh_points[:, 0] = voxel_grid_origin[0] + verts[:, 0]\n",
    "    mesh_points[:, 1] = voxel_grid_origin[1] + verts[:, 1]\n",
    "    mesh_points[:, 2] = voxel_grid_origin[2] + verts[:, 2]\n",
    "\n",
    "    # apply additional offset and scale\n",
    "    if scale is not None:\n",
    "        mesh_points = mesh_points / scale\n",
    "    if offset is not None:\n",
    "        mesh_points = mesh_points - offset\n",
    "\n",
    "    # try writing to the ply file\n",
    "\n",
    "    num_verts = verts.shape[0]\n",
    "    num_faces = faces.shape[0]\n",
    "\n",
    "    verts_tuple = np.zeros((num_verts,), dtype=[(\"x\", \"f4\"), (\"y\", \"f4\"), (\"z\", \"f4\")])\n",
    "\n",
    "    for i in range(0, num_verts):\n",
    "        verts_tuple[i] = tuple(mesh_points[i, :])\n",
    "\n",
    "    faces_building = []\n",
    "    for i in range(0, num_faces):\n",
    "        faces_building.append(((faces[i, :].tolist(),)))\n",
    "    faces_tuple = np.array(faces_building, dtype=[(\"vertex_indices\", \"i4\", (3,))])\n",
    "\n",
    "    el_verts = plyfile.PlyElement.describe(verts_tuple, \"vertex\")\n",
    "    el_faces = plyfile.PlyElement.describe(faces_tuple, \"face\")\n",
    "\n",
    "    ply_data = plyfile.PlyData([el_verts, el_faces])\n",
    "    return ply_data\n",
    "\n",
    "\n",
    "def process_mesh(mesh_filepath, target_filepath, executable, additional_args):\n",
    "    my_env = os.environ.copy()\n",
    "    my_env[\"PANGOLIN_WINDOW_URI\"] = \"headless://\"\n",
    "    \n",
    "    command = [executable, \"-m\", mesh_filepath, \"-o\", target_filepath] + additional_args\n",
    "\n",
    "    subproc = subprocess.Popen(command, stdout=subprocess.DEVNULL, stderr=subprocess.PIPE, env=my_env)\n",
    "    subproc.wait()\n",
    "    \n",
    "    out, err = subproc.communicate()\n",
    "    if out is not None:\n",
    "        print(out.decode())\n",
    "    if err is not None:\n",
    "        print(err.decode())"
   ]
  },
  {
   "cell_type": "markdown",
   "metadata": {},
   "source": [
    "## Prepare model"
   ]
  },
  {
   "cell_type": "code",
   "execution_count": 85,
   "metadata": {},
   "outputs": [],
   "source": [
    "def load_model(experiment_directory, checkpoint):\n",
    "    specs_filename = os.path.join(experiment_directory, \"specs.json\")\n",
    "\n",
    "    if not os.path.isfile(specs_filename):\n",
    "        raise Exception(\n",
    "            'The experiment directory does not include specifications file \"specs.json\"'\n",
    "        )\n",
    "\n",
    "    specs = json.load(open(specs_filename))\n",
    "\n",
    "    arch = __import__(\"networks.\" + specs[\"NetworkArch\"], fromlist=[\"Decoder\"])\n",
    "\n",
    "    latent_size = specs[\"CodeLength\"]\n",
    "\n",
    "    decoder = arch.Decoder(latent_size, **specs[\"NetworkSpecs\"])\n",
    "\n",
    "    decoder = torch.nn.DataParallel(decoder)\n",
    "\n",
    "    saved_model_state = torch.load(\n",
    "        os.path.join(experiment_directory, ws.model_params_subdir, checkpoint + \".pth\")\n",
    "    )\n",
    "    saved_model_epoch = saved_model_state[\"epoch\"]\n",
    "\n",
    "    decoder.load_state_dict(saved_model_state[\"model_state_dict\"])\n",
    "\n",
    "    decoder = decoder.module.cuda()\n",
    "\n",
    "    decoder.eval()\n",
    "    \n",
    "    return decoder"
   ]
  },
  {
   "cell_type": "code",
   "execution_count": 86,
   "metadata": {},
   "outputs": [],
   "source": [
    "experiment_directory = \"/cvlabdata2/home/artem/DeepSDF/examples/sofas/\"\n",
    "checkpoint = \"latest\"\n",
    "\n",
    "decoder = load_model(experiment_directory, checkpoint)"
   ]
  },
  {
   "cell_type": "markdown",
   "metadata": {},
   "source": [
    "## Load latent vectors"
   ]
  },
  {
   "cell_type": "code",
   "execution_count": 87,
   "metadata": {},
   "outputs": [
    {
     "name": "stdout",
     "output_type": "stream",
     "text": [
      "1628 of latent vectors, each 256 long\n"
     ]
    }
   ],
   "source": [
    "latent_vectors = ws.load_latent_vectors(experiment_directory, checkpoint)\n",
    "latent_size = latent_vectors[0].size()[1]\n",
    "print(f\"{len(latent_vectors)} of latent vectors, each {latent_size} long\")"
   ]
  },
  {
   "cell_type": "markdown",
   "metadata": {},
   "source": [
    "## Generate mesh"
   ]
  },
  {
   "cell_type": "code",
   "execution_count": 88,
   "metadata": {},
   "outputs": [],
   "source": [
    "initial_vector = latent_vectors[356]"
   ]
  },
  {
   "cell_type": "code",
   "execution_count": 89,
   "metadata": {},
   "outputs": [
    {
     "name": "stdout",
     "output_type": "stream",
     "text": [
      "sampling takes: 40.074510\n"
     ]
    }
   ],
   "source": [
    "ply_mesh = None\n",
    "\n",
    "with torch.no_grad():\n",
    "    ply_mesh = create_mesh( decoder,\n",
    "                            initial_vector,\n",
    "                            N=256,\n",
    "                            max_batch=int(2 ** 18),\n",
    "                            offset=None,\n",
    "                            scale=None)\n",
    "ply_mesh.write('../Expirements/data/original_mesh.ply')"
   ]
  },
  {
   "cell_type": "code",
   "execution_count": 90,
   "metadata": {},
   "outputs": [
    {
     "data": {
      "application/vnd.jupyter.widget-view+json": {
       "model_id": "536d3fa74e984598b39616ace5fc46e7",
       "version_major": 2,
       "version_minor": 0
      },
      "text/plain": [
       "Renderer(camera=PerspectiveCamera(aspect=1.6, fov=90.0, position=(-0.0016829955857247114, 0.4273731996072456, …"
      ]
     },
     "metadata": {},
     "output_type": "display_data"
    },
    {
     "data": {
      "application/vnd.jupyter.widget-view+json": {
       "model_id": "10f219c31d0e4b42b978e9e48c14c52f",
       "version_major": 2,
       "version_minor": 0
      },
      "text/plain": [
       "HBox(children=(Label(value='Point size:'), FloatSlider(value=0.003, max=0.03, step=3e-05), Label(value='Backgr…"
      ]
     },
     "metadata": {},
     "output_type": "display_data"
    }
   ],
   "source": [
    "cloud = PyntCloud.from_file('../Expirements/data/original_mesh.ply')\n",
    "cloud.plot(background='white', initial_point_size=0.003)"
   ]
  },
  {
   "cell_type": "code",
   "execution_count": null,
   "metadata": {},
   "outputs": [],
   "source": [
    "cloud"
   ]
  },
  {
   "cell_type": "markdown",
   "metadata": {},
   "source": [
    "## Change mesh a bit"
   ]
  },
  {
   "cell_type": "code",
   "execution_count": null,
   "metadata": {},
   "outputs": [],
   "source": [
    "verts, faces = plyfile.PlyData.read('../Expirements/data/original_mesh.ply').elements\n",
    "\n",
    "for i in range(0, len(verts.data)):\n",
    "    x, y, z = verts.data[i]\n",
    "    verts.data[i] = (2 * x, y, z)\n",
    "\n",
    "changed_ply_data = plyfile.PlyData([verts, faces])\n",
    "changed_ply_data.write('../Expirements/data/changed_mesh.ply')"
   ]
  },
  {
   "cell_type": "code",
   "execution_count": 91,
   "metadata": {},
   "outputs": [
    {
     "data": {
      "application/vnd.jupyter.widget-view+json": {
       "model_id": "0e16c3a6de7649f9a2c59bb17f230cc9",
       "version_major": 2,
       "version_minor": 0
      },
      "text/plain": [
       "Renderer(camera=PerspectiveCamera(aspect=1.6, fov=90.0, position=(-0.003365991171449423, 0.4273731996072456, 0…"
      ]
     },
     "metadata": {},
     "output_type": "display_data"
    },
    {
     "data": {
      "application/vnd.jupyter.widget-view+json": {
       "model_id": "3721cd934f144ceb9838e14ff8eb4d33",
       "version_major": 2,
       "version_minor": 0
      },
      "text/plain": [
       "HBox(children=(Label(value='Point size:'), FloatSlider(value=0.003, max=0.03, step=3e-05), Label(value='Backgr…"
      ]
     },
     "metadata": {},
     "output_type": "display_data"
    }
   ],
   "source": [
    "changed_cloud = PyntCloud.from_file('../Expirements/data/changed_mesh.ply')\n",
    "changed_cloud.plot(background='white', initial_point_size=0.003)"
   ]
  },
  {
   "cell_type": "code",
   "execution_count": null,
   "metadata": {},
   "outputs": [],
   "source": [
    "changed_cloud"
   ]
  },
  {
   "cell_type": "markdown",
   "metadata": {},
   "source": [
    "## Generate a new vector"
   ]
  },
  {
   "cell_type": "code",
   "execution_count": null,
   "metadata": {},
   "outputs": [],
   "source": [
    "process_mesh('../Expirements/data/changed_mesh.ply', '../Expirements/data/changed_mesh_SDF.npz', \n",
    "             'bin/PreprocessMesh', [])"
   ]
  },
  {
   "cell_type": "code",
   "execution_count": null,
   "metadata": {},
   "outputs": [],
   "source": [
    "data_sdf = deep_sdf.data.read_sdf_samples_into_ram('../Expirements/data/changed_mesh_SDF.npz')\n",
    "data_sdf[0] = data_sdf[0][torch.randperm(data_sdf[0].shape[0])]\n",
    "data_sdf[1] = data_sdf[1][torch.randperm(data_sdf[1].shape[0])]"
   ]
  },
  {
   "cell_type": "code",
   "execution_count": null,
   "metadata": {},
   "outputs": [],
   "source": [
    "err, latent = reconstruct(\n",
    "                decoder,\n",
    "                800,\n",
    "                latent_size,\n",
    "                data_sdf,\n",
    "                0.01,  # [emp_mean,emp_var],\n",
    "                0.1,\n",
    "                num_samples=8000,\n",
    "                lr=5e-3,\n",
    "                l2reg=True,\n",
    "            )"
   ]
  },
  {
   "cell_type": "code",
   "execution_count": null,
   "metadata": {},
   "outputs": [],
   "source": [
    "initial_vector - latent"
   ]
  },
  {
   "cell_type": "code",
   "execution_count": null,
   "metadata": {},
   "outputs": [],
   "source": [
    "reconstructed_ply_mesh = None\n",
    "\n",
    "with torch.no_grad():\n",
    "    reconstructed_ply_mesh = create_mesh( decoder,\n",
    "                            latent,\n",
    "                            N=256,\n",
    "                            max_batch=int(2 ** 18),\n",
    "                            offset=None,\n",
    "                            scale=None)\n",
    "reconstructed_ply_mesh.write('../Expirements/data/reconstucted_mesh.ply')"
   ]
  },
  {
   "cell_type": "code",
   "execution_count": 92,
   "metadata": {},
   "outputs": [
    {
     "data": {
      "application/vnd.jupyter.widget-view+json": {
       "model_id": "6c0264e93cae400a980178450519b82e",
       "version_major": 2,
       "version_minor": 0
      },
      "text/plain": [
       "Renderer(camera=PerspectiveCamera(aspect=1.6, fov=90.0, position=(-0.006710517220199108, 0.21170878782868385, …"
      ]
     },
     "metadata": {},
     "output_type": "display_data"
    },
    {
     "data": {
      "application/vnd.jupyter.widget-view+json": {
       "model_id": "3c59a9d989674b0a81b27c6a43f9c6e0",
       "version_major": 2,
       "version_minor": 0
      },
      "text/plain": [
       "HBox(children=(Label(value='Point size:'), FloatSlider(value=0.003, max=0.03, step=3e-05), Label(value='Backgr…"
      ]
     },
     "metadata": {},
     "output_type": "display_data"
    }
   ],
   "source": [
    "changed_cloud = PyntCloud.from_file('../Expirements/data/reconstucted_mesh.ply')\n",
    "changed_cloud.plot(background='white', initial_point_size=0.003)"
   ]
  },
  {
   "cell_type": "markdown",
   "metadata": {},
   "source": [
    "## Lets check impossible shape"
   ]
  },
  {
   "cell_type": "code",
   "execution_count": 95,
   "metadata": {},
   "outputs": [],
   "source": [
    "verts, faces = plyfile.PlyData.read('../Expirements/data/original_mesh.ply').elements\n",
    "\n",
    "for i in range(0, len(verts.data)):\n",
    "    x, y, z = verts.data[i]\n",
    "    if x > 0:\n",
    "        verts.data[i] = (x, y + 0.02, z)\n",
    "\n",
    "changed_ply_data = plyfile.PlyData([verts, faces])\n",
    "changed_ply_data.write('../Expirements/data/changed_mesh2.ply')"
   ]
  },
  {
   "cell_type": "code",
   "execution_count": 96,
   "metadata": {},
   "outputs": [
    {
     "data": {
      "application/vnd.jupyter.widget-view+json": {
       "model_id": "2089ebc435f14b7398a27c685a370597",
       "version_major": 2,
       "version_minor": 0
      },
      "text/plain": [
       "Renderer(camera=PerspectiveCamera(aspect=1.6, fov=90.0, position=(-0.0016829955857247114, 0.45731561724096537,…"
      ]
     },
     "metadata": {},
     "output_type": "display_data"
    },
    {
     "data": {
      "application/vnd.jupyter.widget-view+json": {
       "model_id": "8e003202c5084406ad4c7bbeec6db2ea",
       "version_major": 2,
       "version_minor": 0
      },
      "text/plain": [
       "HBox(children=(Label(value='Point size:'), FloatSlider(value=0.003, max=0.03, step=3e-05), Label(value='Backgr…"
      ]
     },
     "metadata": {},
     "output_type": "display_data"
    }
   ],
   "source": [
    "changed_cloud = PyntCloud.from_file('../Expirements/data/changed_mesh2.ply')\n",
    "changed_cloud.plot(background='white', initial_point_size=0.003)"
   ]
  },
  {
   "cell_type": "code",
   "execution_count": null,
   "metadata": {},
   "outputs": [],
   "source": [
    "process_mesh('../Expirements/data/changed_mesh2.ply', '../Expirements/data/changed_mesh_SDF2.npz', \n",
    "             'bin/PreprocessMesh', [])"
   ]
  },
  {
   "cell_type": "code",
   "execution_count": null,
   "metadata": {},
   "outputs": [],
   "source": [
    "data_sdf = deep_sdf.data.read_sdf_samples_into_ram('../Expirements/data/changed_mesh_SDF2.npz')\n",
    "data_sdf[0] = data_sdf[0][torch.randperm(data_sdf[0].shape[0])]\n",
    "data_sdf[1] = data_sdf[1][torch.randperm(data_sdf[1].shape[0])]"
   ]
  },
  {
   "cell_type": "code",
   "execution_count": null,
   "metadata": {},
   "outputs": [],
   "source": [
    "err, latent2 = reconstruct(\n",
    "                decoder,\n",
    "                800,\n",
    "                latent_size,\n",
    "                data_sdf,\n",
    "                0.01,  # [emp_mean,emp_var],\n",
    "                0.1,\n",
    "                num_samples=8000,\n",
    "                lr=5e-3,\n",
    "                l2reg=True,\n",
    "            )"
   ]
  },
  {
   "cell_type": "code",
   "execution_count": null,
   "metadata": {},
   "outputs": [],
   "source": [
    "reconstructed_ply_mesh = None\n",
    "\n",
    "with torch.no_grad():\n",
    "    reconstructed_ply_mesh = create_mesh( decoder,\n",
    "                            latent2,\n",
    "                            N=256,\n",
    "                            max_batch=int(2 ** 18),\n",
    "                            offset=None,\n",
    "                            scale=None)\n",
    "reconstructed_ply_mesh.write('../Expirements/data/reconstucted_mesh2.ply')"
   ]
  },
  {
   "cell_type": "code",
   "execution_count": 80,
   "metadata": {},
   "outputs": [
    {
     "data": {
      "application/vnd.jupyter.widget-view+json": {
       "model_id": "5d2cd9365f7e496988ea634ee56a69ca",
       "version_major": 2,
       "version_minor": 0
      },
      "text/plain": [
       "Renderer(camera=PerspectiveCamera(aspect=1.6, fov=90.0, position=(-0.002175437519326806, 0.36393335834145546, …"
      ]
     },
     "metadata": {},
     "output_type": "display_data"
    },
    {
     "data": {
      "application/vnd.jupyter.widget-view+json": {
       "model_id": "043504f7ce79447ea1c66a196b8b12e1",
       "version_major": 2,
       "version_minor": 0
      },
      "text/plain": [
       "HBox(children=(Label(value='Point size:'), FloatSlider(value=0.003, max=0.03, step=3e-05), Label(value='Backgr…"
      ]
     },
     "metadata": {},
     "output_type": "display_data"
    }
   ],
   "source": [
    "changed_cloud = PyntCloud.from_file('../Expirements/data/reconstucted_mesh2.ply')\n",
    "changed_cloud.plot(background='white', initial_point_size=0.003)"
   ]
  },
  {
   "cell_type": "markdown",
   "metadata": {},
   "source": [
    "## Noisy sofa?"
   ]
  },
  {
   "cell_type": "code",
   "execution_count": 97,
   "metadata": {},
   "outputs": [],
   "source": [
    "verts, faces = plyfile.PlyData.read('../Expirements/data/original_mesh.ply').elements\n",
    "\n",
    "for i in range(0, len(verts.data)):\n",
    "    x, y, z = verts.data[i]\n",
    "    x += random.random() / 30\n",
    "    y += random.random() / 30\n",
    "    z += random.random() / 30\n",
    "    verts.data[i] = (x, y, z)\n",
    "\n",
    "changed_ply_data = plyfile.PlyData([verts, faces])\n",
    "changed_ply_data.write('../Expirements/data/changed_mesh3.ply')"
   ]
  },
  {
   "cell_type": "code",
   "execution_count": 98,
   "metadata": {},
   "outputs": [
    {
     "data": {
      "application/vnd.jupyter.widget-view+json": {
       "model_id": "d8696acb6b4d4c88a25d01e0f4b30902",
       "version_major": 2,
       "version_minor": 0
      },
      "text/plain": [
       "Renderer(camera=PerspectiveCamera(aspect=1.6, fov=90.0, position=(0.014982783235609531, 0.47701494954526424, 0…"
      ]
     },
     "metadata": {},
     "output_type": "display_data"
    },
    {
     "data": {
      "application/vnd.jupyter.widget-view+json": {
       "model_id": "7f08f9a76f2348a6801737dbe55062e5",
       "version_major": 2,
       "version_minor": 0
      },
      "text/plain": [
       "HBox(children=(Label(value='Point size:'), FloatSlider(value=0.003, max=0.03, step=3e-05), Label(value='Backgr…"
      ]
     },
     "metadata": {},
     "output_type": "display_data"
    }
   ],
   "source": [
    "changed_cloud = PyntCloud.from_file('../Expirements/data/changed_mesh3.ply')\n",
    "changed_cloud.plot(background='white', initial_point_size=0.003)"
   ]
  },
  {
   "cell_type": "code",
   "execution_count": 56,
   "metadata": {},
   "outputs": [
    {
     "name": "stdout",
     "output_type": "stream",
     "text": [
      "OpenGL Error: XX (500)\n",
      "In: /cvlabdata2/home/artem/DeepSDF/Pangolin/include/pangolin/gl/gl.hpp, line 203\n",
      "\n"
     ]
    }
   ],
   "source": [
    "process_mesh('../Expirements/data/changed_mesh3.ply', '../Expirements/data/changed_mesh_SDF3.npz', \n",
    "             'bin/PreprocessMesh', [])"
   ]
  },
  {
   "cell_type": "code",
   "execution_count": 57,
   "metadata": {},
   "outputs": [],
   "source": [
    "data_sdf = deep_sdf.data.read_sdf_samples_into_ram('../Expirements/data/changed_mesh_SDF3.npz')\n",
    "data_sdf[0] = data_sdf[0][torch.randperm(data_sdf[0].shape[0])]\n",
    "data_sdf[1] = data_sdf[1][torch.randperm(data_sdf[1].shape[0])]\n",
    "\n",
    "err, latent3 = reconstruct(\n",
    "                decoder,\n",
    "                800,\n",
    "                latent_size,\n",
    "                data_sdf,\n",
    "                0.01,  # [emp_mean,emp_var],\n",
    "                0.1,\n",
    "                num_samples=8000,\n",
    "                lr=5e-3,\n",
    "                l2reg=True,\n",
    "            )"
   ]
  },
  {
   "cell_type": "code",
   "execution_count": 58,
   "metadata": {},
   "outputs": [
    {
     "ename": "KeyboardInterrupt",
     "evalue": "",
     "output_type": "error",
     "traceback": [
      "\u001b[0;31m---------------------------------------------------------------------------\u001b[0m",
      "\u001b[0;31mKeyboardInterrupt\u001b[0m                         Traceback (most recent call last)",
      "\u001b[0;32m<ipython-input-58-ad90e46425cc>\u001b[0m in \u001b[0;36m<module>\u001b[0;34m\u001b[0m\n\u001b[1;32m      7\u001b[0m                             \u001b[0mmax_batch\u001b[0m\u001b[0;34m=\u001b[0m\u001b[0mint\u001b[0m\u001b[0;34m(\u001b[0m\u001b[0;36m2\u001b[0m \u001b[0;34m**\u001b[0m \u001b[0;36m18\u001b[0m\u001b[0;34m)\u001b[0m\u001b[0;34m,\u001b[0m\u001b[0;34m\u001b[0m\u001b[0;34m\u001b[0m\u001b[0m\n\u001b[1;32m      8\u001b[0m                             \u001b[0moffset\u001b[0m\u001b[0;34m=\u001b[0m\u001b[0;32mNone\u001b[0m\u001b[0;34m,\u001b[0m\u001b[0;34m\u001b[0m\u001b[0;34m\u001b[0m\u001b[0m\n\u001b[0;32m----> 9\u001b[0;31m                             scale=None)\n\u001b[0m\u001b[1;32m     10\u001b[0m \u001b[0mreconstructed_ply_mesh\u001b[0m\u001b[0;34m.\u001b[0m\u001b[0mwrite\u001b[0m\u001b[0;34m(\u001b[0m\u001b[0;34m'../Expirements/data/reconstucted_mesh3.ply'\u001b[0m\u001b[0;34m)\u001b[0m\u001b[0;34m\u001b[0m\u001b[0;34m\u001b[0m\u001b[0m\n",
      "\u001b[0;32m<ipython-input-2-cc14c4176b3d>\u001b[0m in \u001b[0;36mcreate_mesh\u001b[0;34m(decoder, latent_vec, filename, N, max_batch, offset, scale)\u001b[0m\n\u001b[1;32m     37\u001b[0m         samples[head : min(head + max_batch, num_samples), 3] = (\n\u001b[1;32m     38\u001b[0m             \u001b[0mdeep_sdf\u001b[0m\u001b[0;34m.\u001b[0m\u001b[0mutils\u001b[0m\u001b[0;34m.\u001b[0m\u001b[0mdecode_sdf\u001b[0m\u001b[0;34m(\u001b[0m\u001b[0mdecoder\u001b[0m\u001b[0;34m,\u001b[0m \u001b[0mlatent_vec\u001b[0m\u001b[0;34m,\u001b[0m \u001b[0msample_subset\u001b[0m\u001b[0;34m)\u001b[0m\u001b[0;34m\u001b[0m\u001b[0;34m\u001b[0m\u001b[0m\n\u001b[0;32m---> 39\u001b[0;31m             \u001b[0;34m.\u001b[0m\u001b[0msqueeze\u001b[0m\u001b[0;34m(\u001b[0m\u001b[0;36m1\u001b[0m\u001b[0;34m)\u001b[0m\u001b[0;34m\u001b[0m\u001b[0;34m\u001b[0m\u001b[0m\n\u001b[0m\u001b[1;32m     40\u001b[0m             \u001b[0;34m.\u001b[0m\u001b[0mdetach\u001b[0m\u001b[0;34m(\u001b[0m\u001b[0;34m)\u001b[0m\u001b[0;34m\u001b[0m\u001b[0;34m\u001b[0m\u001b[0m\n\u001b[1;32m     41\u001b[0m             \u001b[0;34m.\u001b[0m\u001b[0mcpu\u001b[0m\u001b[0;34m(\u001b[0m\u001b[0;34m)\u001b[0m\u001b[0;34m\u001b[0m\u001b[0;34m\u001b[0m\u001b[0m\n",
      "\u001b[0;31mKeyboardInterrupt\u001b[0m: "
     ]
    }
   ],
   "source": [
    "reconstructed_ply_mesh = None\n",
    "\n",
    "with torch.no_grad():\n",
    "    reconstructed_ply_mesh = create_mesh( decoder,\n",
    "                            latent3,\n",
    "                            N=256,\n",
    "                            max_batch=int(2 ** 18),\n",
    "                            offset=None,\n",
    "                            scale=None)\n",
    "reconstructed_ply_mesh.write('../Expirements/data/reconstucted_mesh3.ply')"
   ]
  },
  {
   "cell_type": "code",
   "execution_count": 99,
   "metadata": {},
   "outputs": [
    {
     "data": {
      "application/vnd.jupyter.widget-view+json": {
       "model_id": "757c81ffdb8a4e59a83a885da0df8c97",
       "version_major": 2,
       "version_minor": 0
      },
      "text/plain": [
       "Renderer(camera=PerspectiveCamera(aspect=1.6, fov=90.0, position=(0.0036463269498199224, 0.35841766744852066, …"
      ]
     },
     "metadata": {},
     "output_type": "display_data"
    },
    {
     "data": {
      "application/vnd.jupyter.widget-view+json": {
       "model_id": "2364ee4e1d564f4999d7a142d4fbde17",
       "version_major": 2,
       "version_minor": 0
      },
      "text/plain": [
       "HBox(children=(Label(value='Point size:'), FloatSlider(value=0.003, max=0.03, step=3e-05), Label(value='Backgr…"
      ]
     },
     "metadata": {},
     "output_type": "display_data"
    }
   ],
   "source": [
    "changed_cloud = PyntCloud.from_file('../Expirements/data/reconstucted_mesh3.ply')\n",
    "changed_cloud.plot(background='white', initial_point_size=0.003)"
   ]
  },
  {
   "cell_type": "code",
   "execution_count": null,
   "metadata": {},
   "outputs": [],
   "source": []
  },
  {
   "cell_type": "code",
   "execution_count": null,
   "metadata": {},
   "outputs": [],
   "source": []
  },
  {
   "cell_type": "code",
   "execution_count": 6,
   "metadata": {},
   "outputs": [],
   "source": [
    "def make_one_optimization_step(initial_vector, decoder, change_func, N=256, num_of_iterations=800, \n",
    "                               ex_prefix='', debug=False):\n",
    "    # Generate original mesh\n",
    "    ply_mesh = None\n",
    "\n",
    "    with torch.no_grad():\n",
    "        ply_mesh = create_mesh( decoder,\n",
    "                                torch.cuda.FloatTensor(initial_vector),\n",
    "                                N=N,\n",
    "                                max_batch=int(2 ** 18),\n",
    "                                offset=None,\n",
    "                                scale=None)\n",
    "\n",
    "    vertexes, _ = ply_mesh\n",
    "    print(\"Sampled \", len(vertexes.data), \" points\")\n",
    "        \n",
    "    ORIGINAL_PATH = '../Expirements/data/'+ ex_prefix + '_original.ply'\n",
    "    \n",
    "    if debug:\n",
    "        ply_mesh.write(ORIGINAL_PATH)\n",
    "\n",
    "\n",
    "    # Change the mesh\n",
    "    changed_ply_data = change_func(ply_mesh)\n",
    "\n",
    "    CHANGED_PATN = '../Expirements/data/'+ ex_prefix + '_changed.ply'\n",
    "    changed_ply_data.write(CHANGED_PATN)\n",
    "\n",
    "    # Reconstruct\n",
    "    process_mesh(CHANGED_PATN, CHANGED_PATN[:-4] + '.npz', 'bin/PreprocessMesh', [])\n",
    "    if debug:\n",
    "        print(\"Mesh is processed\")\n",
    "    data_sdf = deep_sdf.data.read_sdf_samples_into_ram(CHANGED_PATN[:-4] + '.npz')\n",
    "    data_sdf[0] = data_sdf[0][torch.randperm(data_sdf[0].shape[0])]\n",
    "    data_sdf[1] = data_sdf[1][torch.randperm(data_sdf[1].shape[0])]\n",
    "    \n",
    "    err, latent2 = reconstruct(\n",
    "                decoder,\n",
    "                num_of_iterations,\n",
    "                latent_size,\n",
    "                data_sdf,\n",
    "                0.01,  # [emp_mean,emp_var],\n",
    "                0.1,\n",
    "                num_samples=8000,\n",
    "                lr=5e-3,\n",
    "                l2reg=True,\n",
    "                initial_latent=initial_vector\n",
    "            )\n",
    "    \n",
    "    reconstructed_ply_mesh = None\n",
    "    \n",
    "    if debug:\n",
    "        print(\"Mesh is reconstructed\")\n",
    "\n",
    "    with torch.no_grad():\n",
    "        reconstructed_ply_mesh = create_mesh( decoder,\n",
    "                                latent2,\n",
    "                                N=256,\n",
    "                                max_batch=int(2 ** 18),\n",
    "                                offset=None,\n",
    "                                scale=None)\n",
    "    RECONSTRUCTED_PATH = '../Expirements/data/'+ ex_prefix + '_reconstructed.ply'\n",
    "    if debug:\n",
    "        reconstructed_ply_mesh.write(RECONSTRUCTED_PATH)\n",
    "\n",
    "    return err, latent2, reconstructed_ply_mesh"
   ]
  },
  {
   "cell_type": "code",
   "execution_count": 7,
   "metadata": {},
   "outputs": [],
   "source": [
    "def plot_ply(path):\n",
    "    changed_cloud = PyntCloud.from_file(path)\n",
    "    changed_cloud.plot(background='white', initial_point_size=0.003)\n",
    "    \n",
    "def stretch_mesh(mesh):\n",
    "    verts, faces = mesh.elements\n",
    "\n",
    "    for i in range(0, len(verts.data)):\n",
    "        x, y, z = verts.data[i]\n",
    "        verts.data[i] = (2 * x, y, z)\n",
    "\n",
    "    changed_ply_data = plyfile.PlyData([verts, faces])\n",
    "    return changed_ply_data;"
   ]
  },
  {
   "cell_type": "markdown",
   "metadata": {},
   "source": [
    "# Sparce optimization test"
   ]
  },
  {
   "cell_type": "code",
   "execution_count": 8,
   "metadata": {},
   "outputs": [],
   "source": [
    "def make_mesh_sparce_and_stretch(mesh, num_of_points=100, stretch=1):\n",
    "    verts, faces = mesh.elements\n",
    "    data_verts = np.array(verts.data)\n",
    "    \n",
    "    vertex = np.array(random.choices(data_verts, k=num_of_points),\n",
    "                      dtype=[('x', 'f4'), ('y', 'f4'), ('z', 'f4')])\n",
    "    \n",
    "    print('Number of verts:', len(data_verts), ' -> ', len(vertex))\n",
    "\n",
    "    for i in range(0, len(vertex)):\n",
    "        x, y, z = vertex[i]\n",
    "        vertex[i] = (stretch * x, y, z)\n",
    "        \n",
    "    face = np.array([], dtype=[('vertex_indices', 'i4', (3,)),\n",
    "                                  ('red', 'u1'), ('green', 'u1'),\n",
    "                                  ('blue', 'u1')])\n",
    "\n",
    "    el_v = plyfile.PlyElement.describe(vertex, 'vertex')\n",
    "    el_f = plyfile.PlyElement.describe(face, 'face')\n",
    "    changed_ply_data = plyfile.PlyData([el_v, el_f])\n",
    "    return changed_ply_data\n",
    "\n",
    "\n",
    "def stretch_mesh(mesh, stretch=1):\n",
    "    verts, faces = mesh.elements\n",
    "\n",
    "    for i in range(0, len(verts.data)):\n",
    "        x, y, z = verts.data[i]\n",
    "        verts.data[i] = (stretch * x, y, z)\n",
    "\n",
    "    return plyfile.PlyData([verts, faces])\n",
    "\n",
    "def cast_arr(arr):\n",
    "    return np.array(list(map(lambda x: (float(x[0]), float(x[1]), float(x[2])), list(arr['vertex'].data))))\n",
    "\n",
    "def chamfer_distance(array1, array2):\n",
    "    num_point = array1.shape[0]\n",
    "    \n",
    "    tree1 = KDTree(array1, leaf_size=num_point+1)\n",
    "    tree2 = KDTree(array2, leaf_size=num_point+1)\n",
    "    distances1, _ = tree1.query(array2)\n",
    "    distances2, _ = tree2.query(array1)\n",
    "    av_dist1 = np.mean(distances1)\n",
    "    av_dist2 = np.mean(distances2)\n",
    "    return (av_dist1+av_dist2) / 2"
   ]
  },
  {
   "cell_type": "markdown",
   "metadata": {},
   "source": [
    "## Create reference mesh"
   ]
  },
  {
   "cell_type": "code",
   "execution_count": 10,
   "metadata": {},
   "outputs": [
    {
     "name": "stdout",
     "output_type": "stream",
     "text": [
      "sampling takes: 41.033458\n"
     ]
    }
   ],
   "source": [
    "ref_mesh = None\n",
    "\n",
    "with torch.no_grad():\n",
    "    ref_mesh = create_mesh( decoder,\n",
    "                            latent_vectors[356],\n",
    "                            N=256,\n",
    "                            max_batch=int(2 ** 18),\n",
    "                            offset=None,\n",
    "                            scale=None)\n",
    "\n",
    "ref_mesh = stretch_mesh(ref_mesh, stretch=1.1**5)\n",
    "ref_mesh.write( '../Expirements/data/ref_mesh.ply')"
   ]
  },
  {
   "cell_type": "markdown",
   "metadata": {},
   "source": [
    "## Number of optimized points = 109732"
   ]
  },
  {
   "cell_type": "code",
   "execution_count": 18,
   "metadata": {},
   "outputs": [
    {
     "data": {
      "application/vnd.jupyter.widget-view+json": {
       "model_id": "1054de2019c3449087de71c869dd008e",
       "version_major": 2,
       "version_minor": 0
      },
      "text/plain": [
       "HBox(children=(IntProgress(value=0, max=5), HTML(value='')))"
      ]
     },
     "metadata": {},
     "output_type": "display_data"
    },
    {
     "name": "stdout",
     "output_type": "stream",
     "text": [
      "sampling takes: 41.497761\n",
      "Sampled  109732  points\n",
      "OpenGL Error: XX (500)\n",
      "In: /cvlabdata2/home/artem/DeepSDF/Pangolin/include/pangolin/gl/gl.hpp, line 203\n",
      "\n",
      "sampling takes: 41.028845\n",
      "sampling takes: 42.060101\n",
      "Sampled  100210  points\n",
      "OpenGL Error: XX (500)\n",
      "In: /cvlabdata2/home/artem/DeepSDF/Pangolin/include/pangolin/gl/gl.hpp, line 203\n",
      "\n",
      "sampling takes: 41.276613\n",
      "sampling takes: 42.443512\n",
      "Sampled  97180  points\n",
      "OpenGL Error: XX (500)\n",
      "In: /cvlabdata2/home/artem/DeepSDF/Pangolin/include/pangolin/gl/gl.hpp, line 203\n",
      "\n",
      "sampling takes: 41.146491\n",
      "sampling takes: 41.694294\n",
      "Sampled  88246  points\n",
      "OpenGL Error: XX (500)\n",
      "In: /cvlabdata2/home/artem/DeepSDF/Pangolin/include/pangolin/gl/gl.hpp, line 203\n",
      "\n",
      "sampling takes: 40.777962\n",
      "sampling takes: 41.650614\n",
      "Sampled  82656  points\n",
      "OpenGL Error: XX (500)\n",
      "In: /cvlabdata2/home/artem/DeepSDF/Pangolin/include/pangolin/gl/gl.hpp, line 203\n",
      "\n",
      "sampling takes: 40.747753\n",
      "\n"
     ]
    }
   ],
   "source": [
    "latent_109732  = latent_vectors[356]\n",
    "\n",
    "for i in tqdm_notebook(range(5)):\n",
    "    error_109732, latent_109732, reconstructed_ply_mesh_109732 =\\\n",
    "        make_one_optimization_step( latent_109732,\\\n",
    "                                    decoder,\\\n",
    "                                    lambda x: stretch_mesh(x, stretch=1.1),\\\n",
    "                                    N=256,\\\n",
    "                                    ex_prefix='s109732', debug=False,\\\n",
    "                                    num_of_iterations=100)"
   ]
  },
  {
   "cell_type": "code",
   "execution_count": 19,
   "metadata": {},
   "outputs": [
    {
     "data": {
      "text/plain": [
       "0.09523257455147614"
      ]
     },
     "execution_count": 19,
     "metadata": {},
     "output_type": "execute_result"
    }
   ],
   "source": [
    "chamfer_distance(cast_arr(reconstructed_ply_mesh_109732), cast_arr(ref_mesh))"
   ]
  },
  {
   "cell_type": "code",
   "execution_count": 43,
   "metadata": {},
   "outputs": [],
   "source": [
    "reconstructed_ply_mesh_109732.write('../Expirements/data/'+ 's109732' + '_reconstructed.ply')"
   ]
  },
  {
   "cell_type": "markdown",
   "metadata": {},
   "source": [
    "## Number of optimized points = 26654"
   ]
  },
  {
   "cell_type": "code",
   "execution_count": 20,
   "metadata": {},
   "outputs": [
    {
     "data": {
      "application/vnd.jupyter.widget-view+json": {
       "model_id": "2a7b504368944aa39252d6df7c83a2b3",
       "version_major": 2,
       "version_minor": 0
      },
      "text/plain": [
       "HBox(children=(IntProgress(value=0, max=5), HTML(value='')))"
      ]
     },
     "metadata": {},
     "output_type": "display_data"
    },
    {
     "name": "stdout",
     "output_type": "stream",
     "text": [
      "sampling takes: 5.041800\n",
      "Sampled  26654  points\n",
      "OpenGL Error: XX (500)\n",
      "In: /cvlabdata2/home/artem/DeepSDF/Pangolin/include/pangolin/gl/gl.hpp, line 203\n",
      "\n",
      "sampling takes: 40.700509\n",
      "sampling takes: 5.063262\n",
      "Sampled  25124  points\n",
      "OpenGL Error: XX (500)\n",
      "In: /cvlabdata2/home/artem/DeepSDF/Pangolin/include/pangolin/gl/gl.hpp, line 203\n",
      "\n",
      "sampling takes: 40.698469\n",
      "sampling takes: 5.068825\n",
      "Sampled  23528  points\n",
      "OpenGL Error: XX (500)\n",
      "In: /cvlabdata2/home/artem/DeepSDF/Pangolin/include/pangolin/gl/gl.hpp, line 203\n",
      "\n",
      "sampling takes: 41.042753\n",
      "sampling takes: 5.112397\n",
      "Sampled  21518  points\n",
      "OpenGL Error: XX (500)\n",
      "In: /cvlabdata2/home/artem/DeepSDF/Pangolin/include/pangolin/gl/gl.hpp, line 203\n",
      "\n",
      "sampling takes: 41.225335\n",
      "sampling takes: 5.079490\n",
      "Sampled  20108  points\n",
      "OpenGL Error: XX (500)\n",
      "In: /cvlabdata2/home/artem/DeepSDF/Pangolin/include/pangolin/gl/gl.hpp, line 203\n",
      "\n",
      "sampling takes: 41.063596\n",
      "\n"
     ]
    }
   ],
   "source": [
    "latent_26654  = latent_vectors[356]\n",
    "\n",
    "for i in tqdm_notebook(range(5)):\n",
    "    error_26654, latent_26654, reconstructed_ply_mesh_26654 =\\\n",
    "        make_one_optimization_step( latent_26654,\\\n",
    "                                    decoder,\\\n",
    "                                    lambda x: stretch_mesh(x, stretch=1.1),\\\n",
    "                                    N=128,\\\n",
    "                                    ex_prefix='s26654', debug=False,\\\n",
    "                                    num_of_iterations=100)"
   ]
  },
  {
   "cell_type": "code",
   "execution_count": 26,
   "metadata": {},
   "outputs": [
    {
     "data": {
      "text/plain": [
       "0.09464785144708784"
      ]
     },
     "execution_count": 26,
     "metadata": {},
     "output_type": "execute_result"
    }
   ],
   "source": [
    "chamfer_distance(cast_arr(reconstructed_ply_mesh_26654), cast_arr(ref_mesh))"
   ]
  },
  {
   "cell_type": "code",
   "execution_count": 44,
   "metadata": {},
   "outputs": [],
   "source": [
    "reconstructed_ply_mesh_26654.write('../Expirements/data/'+ 's26654' + '_reconstructed.ply')"
   ]
  },
  {
   "cell_type": "markdown",
   "metadata": {},
   "source": [
    "## Number of optimized points = 6526 "
   ]
  },
  {
   "cell_type": "code",
   "execution_count": 27,
   "metadata": {},
   "outputs": [
    {
     "data": {
      "application/vnd.jupyter.widget-view+json": {
       "model_id": "f1adbeaf3b1f45fa835be154962fdb9a",
       "version_major": 2,
       "version_minor": 0
      },
      "text/plain": [
       "HBox(children=(IntProgress(value=0, max=5), HTML(value='')))"
      ]
     },
     "metadata": {},
     "output_type": "display_data"
    },
    {
     "name": "stdout",
     "output_type": "stream",
     "text": [
      "sampling takes: 0.592110\n",
      "Sampled  6526  points\n",
      "OpenGL Error: XX (500)\n",
      "In: /cvlabdata2/home/artem/DeepSDF/Pangolin/include/pangolin/gl/gl.hpp, line 203\n",
      "\n",
      "sampling takes: 40.246956\n",
      "sampling takes: 0.609672\n",
      "Sampled  6018  points\n",
      "OpenGL Error: XX (500)\n",
      "In: /cvlabdata2/home/artem/DeepSDF/Pangolin/include/pangolin/gl/gl.hpp, line 203\n",
      "\n",
      "sampling takes: 40.053288\n",
      "sampling takes: 0.600991\n",
      "Sampled  5938  points\n",
      "OpenGL Error: XX (500)\n",
      "In: /cvlabdata2/home/artem/DeepSDF/Pangolin/include/pangolin/gl/gl.hpp, line 203\n",
      "\n",
      "sampling takes: 40.469594\n",
      "sampling takes: 0.641014\n",
      "Sampled  5324  points\n",
      "OpenGL Error: XX (500)\n",
      "In: /cvlabdata2/home/artem/DeepSDF/Pangolin/include/pangolin/gl/gl.hpp, line 203\n",
      "\n",
      "sampling takes: 40.853557\n",
      "sampling takes: 0.614305\n",
      "Sampled  4924  points\n",
      "OpenGL Error: XX (500)\n",
      "In: /cvlabdata2/home/artem/DeepSDF/Pangolin/include/pangolin/gl/gl.hpp, line 203\n",
      "\n",
      "sampling takes: 40.815648\n",
      "\n"
     ]
    }
   ],
   "source": [
    "latent_6526  = latent_vectors[356]\n",
    "\n",
    "for i in tqdm_notebook(range(5)):\n",
    "    error_6526, latent_6526, reconstructed_ply_mesh_6526 =\\\n",
    "        make_one_optimization_step( latent_6526,\\\n",
    "                                    decoder,\\\n",
    "                                    lambda x: stretch_mesh(x, stretch=1.1),\\\n",
    "                                    N=64,\\\n",
    "                                    ex_prefix='s6526', debug=False,\\\n",
    "                                    num_of_iterations=100)"
   ]
  },
  {
   "cell_type": "code",
   "execution_count": 28,
   "metadata": {},
   "outputs": [
    {
     "data": {
      "text/plain": [
       "0.09456828585439989"
      ]
     },
     "execution_count": 28,
     "metadata": {},
     "output_type": "execute_result"
    }
   ],
   "source": [
    "chamfer_distance(cast_arr(reconstructed_ply_mesh_6526), cast_arr(ref_mesh))"
   ]
  },
  {
   "cell_type": "code",
   "execution_count": 45,
   "metadata": {},
   "outputs": [],
   "source": [
    "reconstructed_ply_mesh_6526.write('../Expirements/data/'+ 's6526' + '_reconstructed.ply')"
   ]
  },
  {
   "cell_type": "markdown",
   "metadata": {},
   "source": [
    "## Number of optimized points = 1554"
   ]
  },
  {
   "cell_type": "code",
   "execution_count": null,
   "metadata": {},
   "outputs": [
    {
     "data": {
      "application/vnd.jupyter.widget-view+json": {
       "model_id": "668675f6f83d4558840866216e84f5ea",
       "version_major": 2,
       "version_minor": 0
      },
      "text/plain": [
       "HBox(children=(IntProgress(value=0, max=5), HTML(value='')))"
      ]
     },
     "metadata": {},
     "output_type": "display_data"
    },
    {
     "name": "stdout",
     "output_type": "stream",
     "text": [
      "sampling takes: 0.107412\n",
      "Sampled  1554  points\n",
      "OpenGL Error: XX (500)\n",
      "In: /cvlabdata2/home/artem/DeepSDF/Pangolin/include/pangolin/gl/gl.hpp, line 203\n",
      "\n",
      "sampling takes: 40.010346\n",
      "sampling takes: 0.092682\n",
      "Sampled  1444  points\n",
      "OpenGL Error: XX (500)\n",
      "In: /cvlabdata2/home/artem/DeepSDF/Pangolin/include/pangolin/gl/gl.hpp, line 203\n",
      "\n",
      "sampling takes: 40.330642\n",
      "sampling takes: 0.093212\n",
      "Sampled  1348  points\n",
      "OpenGL Error: XX (500)\n",
      "In: /cvlabdata2/home/artem/DeepSDF/Pangolin/include/pangolin/gl/gl.hpp, line 203\n",
      "\n",
      "sampling takes: 40.957092\n",
      "sampling takes: 0.090771\n",
      "Sampled  1270  points\n",
      "OpenGL Error: XX (500)\n",
      "In: /cvlabdata2/home/artem/DeepSDF/Pangolin/include/pangolin/gl/gl.hpp, line 203\n",
      "\n"
     ]
    }
   ],
   "source": [
    "latent_1554 = latent_vectors[356]\n",
    "\n",
    "for i in tqdm_notebook(range(5)):\n",
    "    error_1554, latent_1554, reconstructed_ply_mesh_1554 =\\\n",
    "        make_one_optimization_step( latent_1554,\\\n",
    "                                    decoder,\\\n",
    "                                    lambda x: stretch_mesh(x, stretch=1.1),\\\n",
    "                                    N=32,\\\n",
    "                                    ex_prefix='s1554', debug=False,\\\n",
    "                                    num_of_iterations=100)"
   ]
  },
  {
   "cell_type": "code",
   "execution_count": 32,
   "metadata": {},
   "outputs": [
    {
     "data": {
      "text/plain": [
       "0.09339104394702974"
      ]
     },
     "execution_count": 32,
     "metadata": {},
     "output_type": "execute_result"
    }
   ],
   "source": [
    "chamfer_distance(cast_arr(reconstructed_ply_mesh_1554), cast_arr(ref_mesh))"
   ]
  },
  {
   "cell_type": "code",
   "execution_count": 46,
   "metadata": {},
   "outputs": [],
   "source": [
    "reconstructed_ply_mesh_1554.write('../Expirements/data/'+ 's1554' + '_reconstructed.ply')"
   ]
  },
  {
   "cell_type": "markdown",
   "metadata": {},
   "source": [
    "## Number of optimized points = 328"
   ]
  },
  {
   "cell_type": "code",
   "execution_count": 33,
   "metadata": {},
   "outputs": [
    {
     "data": {
      "application/vnd.jupyter.widget-view+json": {
       "model_id": "e0d2c4cc2b81410eb3ecbf1e6e410ebf",
       "version_major": 2,
       "version_minor": 0
      },
      "text/plain": [
       "HBox(children=(IntProgress(value=0, max=5), HTML(value='')))"
      ]
     },
     "metadata": {},
     "output_type": "display_data"
    },
    {
     "name": "stdout",
     "output_type": "stream",
     "text": [
      "sampling takes: 0.015875\n",
      "Sampled  328  points\n",
      "OpenGL Error: XX (500)\n",
      "In: /cvlabdata2/home/artem/DeepSDF/Pangolin/include/pangolin/gl/gl.hpp, line 203\n",
      "\n",
      "sampling takes: 40.097438\n",
      "sampling takes: 0.013163\n",
      "Sampled  282  points\n",
      "OpenGL Error: XX (500)\n",
      "In: /cvlabdata2/home/artem/DeepSDF/Pangolin/include/pangolin/gl/gl.hpp, line 203\n",
      "\n",
      "sampling takes: 40.301192\n",
      "sampling takes: 0.013338\n",
      "Sampled  310  points\n",
      "OpenGL Error: XX (500)\n",
      "In: /cvlabdata2/home/artem/DeepSDF/Pangolin/include/pangolin/gl/gl.hpp, line 203\n",
      "\n",
      "sampling takes: 40.266774\n",
      "sampling takes: 0.012669\n",
      "Sampled  278  points\n",
      "OpenGL Error: XX (500)\n",
      "In: /cvlabdata2/home/artem/DeepSDF/Pangolin/include/pangolin/gl/gl.hpp, line 203\n",
      "\n",
      "sampling takes: 40.315910\n",
      "sampling takes: 0.012945\n",
      "Sampled  192  points\n",
      "OpenGL Error: XX (500)\n",
      "In: /cvlabdata2/home/artem/DeepSDF/Pangolin/include/pangolin/gl/gl.hpp, line 203\n",
      "\n",
      "sampling takes: 40.671061\n",
      "\n"
     ]
    }
   ],
   "source": [
    "latent_328 = latent_vectors[356]\n",
    "\n",
    "for i in tqdm_notebook(range(5)):\n",
    "    error_328, latent_328, reconstructed_ply_mesh_328 =\\\n",
    "        make_one_optimization_step( latent_328,\\\n",
    "                                    decoder,\\\n",
    "                                    lambda x: stretch_mesh(x, stretch=1.1),\\\n",
    "                                    N=16,\\\n",
    "                                    ex_prefix='s328', debug=False,\\\n",
    "                                    num_of_iterations=100)"
   ]
  },
  {
   "cell_type": "code",
   "execution_count": null,
   "metadata": {},
   "outputs": [
    {
     "data": {
      "text/plain": [
       "0.12438103998622772"
      ]
     },
     "execution_count": 34,
     "metadata": {},
     "output_type": "execute_result"
    }
   ],
   "source": [
    "chamfer_distance(cast_arr(reconstructed_ply_mesh_328), cast_arr(ref_mesh))"
   ]
  },
  {
   "cell_type": "code",
   "execution_count": 47,
   "metadata": {},
   "outputs": [],
   "source": [
    "reconstructed_ply_mesh_328.write('../Expirements/data/'+ 's328' + '_reconstructed.ply')"
   ]
  },
  {
   "cell_type": "markdown",
   "metadata": {},
   "source": [
    "## Number of optimized points = 112"
   ]
  },
  {
   "cell_type": "code",
   "execution_count": 36,
   "metadata": {},
   "outputs": [
    {
     "data": {
      "application/vnd.jupyter.widget-view+json": {
       "model_id": "bd5b9d3e93f54496a81a4da63405a9b0",
       "version_major": 2,
       "version_minor": 0
      },
      "text/plain": [
       "HBox(children=(IntProgress(value=0, max=5), HTML(value='')))"
      ]
     },
     "metadata": {},
     "output_type": "display_data"
    },
    {
     "name": "stdout",
     "output_type": "stream",
     "text": [
      "sampling takes: 0.009099\n",
      "Sampled  112  points\n",
      "OpenGL Error: XX (500)\n",
      "In: /cvlabdata2/home/artem/DeepSDF/Pangolin/include/pangolin/gl/gl.hpp, line 203\n",
      "\n",
      "sampling takes: 40.160507\n",
      "sampling takes: 0.007214\n",
      "Sampled  122  points\n",
      "OpenGL Error: XX (500)\n",
      "In: /cvlabdata2/home/artem/DeepSDF/Pangolin/include/pangolin/gl/gl.hpp, line 203\n",
      "\n",
      "sampling takes: 40.204196\n",
      "sampling takes: 0.007059\n",
      "Sampled  114  points\n",
      "OpenGL Error: XX (500)\n",
      "In: /cvlabdata2/home/artem/DeepSDF/Pangolin/include/pangolin/gl/gl.hpp, line 203\n",
      "\n",
      "sampling takes: 40.490285\n",
      "sampling takes: 0.007490\n",
      "Sampled  76  points\n",
      "OpenGL Error: XX (500)\n",
      "In: /cvlabdata2/home/artem/DeepSDF/Pangolin/include/pangolin/gl/gl.hpp, line 203\n",
      "\n",
      "sampling takes: 40.585571\n",
      "sampling takes: 0.007191\n",
      "Sampled  46  points\n",
      "OpenGL Error: XX (500)\n",
      "In: /cvlabdata2/home/artem/DeepSDF/Pangolin/include/pangolin/gl/gl.hpp, line 203\n",
      "\n",
      "sampling takes: 40.716996\n",
      "\n"
     ]
    }
   ],
   "source": [
    "latent_64 = latent_vectors[356]\n",
    "\n",
    "for i in tqdm_notebook(range(5)):\n",
    "    error_64, latent_64, reconstructed_ply_mesh_64 =\\\n",
    "        make_one_optimization_step( latent_64,\\\n",
    "                                    decoder,\\\n",
    "                                    lambda x: stretch_mesh(x, stretch=1.1),\\\n",
    "                                    N=12,\\\n",
    "                                    ex_prefix='s64', debug=False,\\\n",
    "                                    num_of_iterations=100)"
   ]
  },
  {
   "cell_type": "code",
   "execution_count": 48,
   "metadata": {},
   "outputs": [
    {
     "data": {
      "text/plain": [
       "0.17278512304366633"
      ]
     },
     "execution_count": 48,
     "metadata": {},
     "output_type": "execute_result"
    }
   ],
   "source": [
    "chamfer_distance(cast_arr(reconstructed_ply_mesh_64), cast_arr(ref_mesh))"
   ]
  },
  {
   "cell_type": "code",
   "execution_count": 50,
   "metadata": {},
   "outputs": [],
   "source": [
    "reconstructed_ply_mesh_64.write('../Expirements/data/'+ 's112' + '_reconstructed.ply')"
   ]
  },
  {
   "cell_type": "markdown",
   "metadata": {},
   "source": [
    "## Compare the results"
   ]
  },
  {
   "cell_type": "code",
   "execution_count": 100,
   "metadata": {},
   "outputs": [
    {
     "data": {
      "image/png": "[encoded data removed]",
      "text/plain": [
       "<Figure size 864x576 with 1 Axes>"
      ]
     },
     "metadata": {
      "needs_background": "light"
     },
     "output_type": "display_data"
    }
   ],
   "source": [
    "num_points = [109732, 26654, 6526, 1554, 328, 112]\n",
    "champfer = [0.09523257455147614, 0.09464785144708784, 0.09456828585439989, 0.09339104394702974, 0.12438103998622772, 0.17278512304366633]\n",
    "\n",
    "plt.figure(figsize=(12, 8))\n",
    "plt.plot(num_points, champfer)\n",
    "plt.ylabel('Champfer distance')\n",
    "plt.xlabel('Number of optimized points')\n",
    "plt.xscale('log')\n",
    "plt.show()"
   ]
  },
  {
   "cell_type": "code",
   "execution_count": 101,
   "metadata": {},
   "outputs": [
    {
     "data": {
      "application/vnd.jupyter.widget-view+json": {
       "model_id": "3e5c94e5f41e4c10b07ee8e43f81f7f1",
       "version_major": 2,
       "version_minor": 0
      },
      "text/plain": [
       "Renderer(camera=PerspectiveCamera(aspect=1.6, fov=90.0, position=(-0.002710496773943305, 0.4273731996072456, 0…"
      ]
     },
     "metadata": {},
     "output_type": "display_data"
    },
    {
     "data": {
      "application/vnd.jupyter.widget-view+json": {
       "model_id": "d68ddfad45c246628e8f94d039f427aa",
       "version_major": 2,
       "version_minor": 0
      },
      "text/plain": [
       "HBox(children=(Label(value='Point size:'), FloatSlider(value=0.003, max=0.03, step=3e-05), Label(value='Backgr…"
      ]
     },
     "metadata": {},
     "output_type": "display_data"
    }
   ],
   "source": [
    "plot_ply('../Expirements/data/ref_mesh.ply')"
   ]
  },
  {
   "cell_type": "code",
   "execution_count": 78,
   "metadata": {},
   "outputs": [
    {
     "data": {
      "application/vnd.jupyter.widget-view+json": {
       "model_id": "0bf027a564054bf7b98f39c1018aab43",
       "version_major": 2,
       "version_minor": 0
      },
      "text/plain": [
       "Renderer(camera=PerspectiveCamera(aspect=1.6, fov=90.0, position=(0.005478765349835157, 0.17040502279996872, 0…"
      ]
     },
     "metadata": {},
     "output_type": "display_data"
    },
    {
     "data": {
      "application/vnd.jupyter.widget-view+json": {
       "model_id": "14da89f9dd084fc9a3bd6d8b22309edf",
       "version_major": 2,
       "version_minor": 0
      },
      "text/plain": [
       "HBox(children=(Label(value='Point size:'), FloatSlider(value=0.003, max=0.03, step=3e-05), Label(value='Backgr…"
      ]
     },
     "metadata": {},
     "output_type": "display_data"
    }
   ],
   "source": [
    "plot_ply('../Expirements/data/'+ 's109732' + '_reconstructed.ply')"
   ]
  },
  {
   "cell_type": "code",
   "execution_count": 60,
   "metadata": {},
   "outputs": [
    {
     "data": {
      "application/vnd.jupyter.widget-view+json": {
       "model_id": "961a2a547c344ec38bd35ee389f728f1",
       "version_major": 2,
       "version_minor": 0
      },
      "text/plain": [
       "Renderer(camera=PerspectiveCamera(aspect=1.6, fov=90.0, position=(0.00649914238601923, 0.16435828059911728, 0.…"
      ]
     },
     "metadata": {},
     "output_type": "display_data"
    },
    {
     "data": {
      "application/vnd.jupyter.widget-view+json": {
       "model_id": "59d7bd8f9fce4ce7b2fdbf143b8cde40",
       "version_major": 2,
       "version_minor": 0
      },
      "text/plain": [
       "HBox(children=(Label(value='Point size:'), FloatSlider(value=0.003, max=0.03, step=3e-05), Label(value='Backgr…"
      ]
     },
     "metadata": {},
     "output_type": "display_data"
    }
   ],
   "source": [
    "plot_ply('../Expirements/data/'+ 's6526' + '_reconstructed.ply')"
   ]
  },
  {
   "cell_type": "code",
   "execution_count": 61,
   "metadata": {},
   "outputs": [
    {
     "data": {
      "application/vnd.jupyter.widget-view+json": {
       "model_id": "a264b3f3977c48c7aba8b15a002ccdae",
       "version_major": 2,
       "version_minor": 0
      },
      "text/plain": [
       "Renderer(camera=PerspectiveCamera(aspect=1.6, fov=90.0, position=(0.0009058438590727746, 0.150764562189579, 0.…"
      ]
     },
     "metadata": {},
     "output_type": "display_data"
    },
    {
     "data": {
      "application/vnd.jupyter.widget-view+json": {
       "model_id": "db680a6f76794365a8cd13f1f57f500b",
       "version_major": 2,
       "version_minor": 0
      },
      "text/plain": [
       "HBox(children=(Label(value='Point size:'), FloatSlider(value=0.003, max=0.03, step=3e-05), Label(value='Backgr…"
      ]
     },
     "metadata": {},
     "output_type": "display_data"
    }
   ],
   "source": [
    "plot_ply('../Expirements/data/'+ 's1554' + '_reconstructed.ply')"
   ]
  },
  {
   "cell_type": "code",
   "execution_count": 62,
   "metadata": {},
   "outputs": [
    {
     "data": {
      "application/vnd.jupyter.widget-view+json": {
       "model_id": "b122345504dc47308a0e70d81e1b427d",
       "version_major": 2,
       "version_minor": 0
      },
      "text/plain": [
       "Renderer(camera=PerspectiveCamera(aspect=1.6, fov=90.0, position=(-0.03960524499416351, 0.10296153649687767, 0…"
      ]
     },
     "metadata": {},
     "output_type": "display_data"
    },
    {
     "data": {
      "application/vnd.jupyter.widget-view+json": {
       "model_id": "c8d4fd3a379346d197783d35fb8046ed",
       "version_major": 2,
       "version_minor": 0
      },
      "text/plain": [
       "HBox(children=(Label(value='Point size:'), FloatSlider(value=0.003, max=0.03, step=3e-05), Label(value='Backgr…"
      ]
     },
     "metadata": {},
     "output_type": "display_data"
    }
   ],
   "source": [
    "plot_ply('../Expirements/data/'+ 's328' + '_reconstructed.ply')"
   ]
  },
  {
   "cell_type": "code",
   "execution_count": null,
   "metadata": {},
   "outputs": [],
   "source": []
  }
 ],
 "metadata": {
  "kernelspec": {
   "display_name": "Python 3",
   "language": "python",
   "name": "python3"
  },
  "language_info": {
   "codemirror_mode": {
    "name": "ipython",
    "version": 3
   },
   "file_extension": ".py",
   "mimetype": "text/x-python",
   "name": "python",
   "nbconvert_exporter": "python",
   "pygments_lexer": "ipython3",
   "version": "3.7.3"
  }
 },
 "nbformat": 4,
 "nbformat_minor": 4
}
