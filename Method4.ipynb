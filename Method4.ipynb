{
 "cells": [
  {
   "cell_type": "code",
   "execution_count": 85,
   "metadata": {},
   "outputs": [
    {
     "name": "stdout",
     "output_type": "stream",
     "text": [
      "The autoreload extension is already loaded. To reload it, use:\n",
      "  %reload_ext autoreload\n"
     ]
    }
   ],
   "source": [
    "%load_ext autoreload\n",
    "%autoreload 2\n",
    "\n",
    "import json\n",
    "import numpy as np\n",
    "import os\n",
    "import sys\n",
    "import time\n",
    "import skimage.measure\n",
    "import subprocess\n",
    "import random\n",
    "import traceback\n",
    "from tqdm import tqdm_notebook as tqdm\n",
    "import matplotlib.pyplot as plt\n",
    "%matplotlib inline\n",
    "\n",
    "import torch\n",
    "#from chamfer_distance import ChamferDistance\n",
    "from neuralnet_pytorch.metrics import chamfer_loss\n",
    "chamfer_dist = chamfer_loss\n",
    "from sklearn.neighbors import KDTree\n",
    "\n",
    "from mayavi import mlab\n",
    "import plyfile\n",
    "from pyntcloud import PyntCloud\n",
    "from plyfile import PlyData\n",
    "\n",
    "import deep_sdf\n",
    "import deep_sdf.workspace as ws\n",
    "from reconstruct import reconstruct\n",
    "\n",
    "from custom_utils import *"
   ]
  },
  {
   "cell_type": "markdown",
   "metadata": {},
   "source": [
    "## F decalration\n",
    "\n",
    "Model F(p) - distance of the point from the sphere"
   ]
  },
  {
   "cell_type": "code",
   "execution_count": 34,
   "metadata": {},
   "outputs": [],
   "source": [
    "RADIUS = 0.25\n",
    "\n",
    "def mod(x, y, z):\n",
    "    return x ** 2 + y ** 2 + z ** 2\n",
    "\n",
    "def compute_loss(x, y, z):\n",
    "    return (RADIUS - mod(x, y, z)) ** 2\n",
    "\n",
    "def grad_modulo(x, y, z):\n",
    "    return 4 * abs(RADIUS - mod(x, y, z)) * (mod(x, y, z) ** (1/2))\n",
    "\n",
    "def grad_x(x, y, z):\n",
    "    return 4*x*mod(x, y, z)\n",
    "def grad_y(x, y, z):\n",
    "    return 4*y*mod(x, y, z)\n",
    "def grad_z(x, y, z):\n",
    "    return 4*z*mod(x, y, z)\n",
    "\n",
    "def deriv_sign(x, y, z):\n",
    "    ret = 1\n",
    "    if mod(x, y, z) > RADIUS:\n",
    "        ret = -1\n",
    "    return ret"
   ]
  },
  {
   "cell_type": "markdown",
   "metadata": {},
   "source": [
    "### Load stuff"
   ]
  },
  {
   "cell_type": "code",
   "execution_count": 35,
   "metadata": {},
   "outputs": [
    {
     "data": {
      "text/plain": [
       "Decoder(\n",
       "  (lin0): Linear(in_features=259, out_features=512, bias=True)\n",
       "  (lin1): Linear(in_features=512, out_features=512, bias=True)\n",
       "  (lin2): Linear(in_features=512, out_features=512, bias=True)\n",
       "  (lin3): Linear(in_features=512, out_features=253, bias=True)\n",
       "  (lin4): Linear(in_features=512, out_features=512, bias=True)\n",
       "  (lin5): Linear(in_features=512, out_features=512, bias=True)\n",
       "  (lin6): Linear(in_features=512, out_features=512, bias=True)\n",
       "  (lin7): Linear(in_features=512, out_features=512, bias=True)\n",
       "  (lin8): Linear(in_features=512, out_features=1, bias=True)\n",
       "  (relu): ReLU()\n",
       "  (th): Tanh()\n",
       ")"
      ]
     },
     "execution_count": 35,
     "metadata": {},
     "output_type": "execute_result"
    }
   ],
   "source": [
    "experiment_directory = \"/cvlabdata2/home/artem/DeepSDF/examples/planes/\"\n",
    "checkpoint = \"latest\"\n",
    "\n",
    "decoder = load_model(experiment_directory, checkpoint)\n",
    "decoder.eval()"
   ]
  },
  {
   "cell_type": "code",
   "execution_count": 36,
   "metadata": {},
   "outputs": [
    {
     "name": "stdout",
     "output_type": "stream",
     "text": [
      "1780 of latent vectors, each 256 long\n"
     ]
    }
   ],
   "source": [
    "latent_vectors = ws.load_latent_vectors(experiment_directory, checkpoint)\n",
    "latent_size = latent_vectors[0].size()[1]\n",
    "print(f\"{len(latent_vectors)} of latent vectors, each {latent_size} long\")"
   ]
  },
  {
   "cell_type": "markdown",
   "metadata": {},
   "source": [
    "## Get a point that has 0 SDF value"
   ]
  },
  {
   "cell_type": "code",
   "execution_count": 37,
   "metadata": {},
   "outputs": [],
   "source": [
    "def get_sdf_predictions(decoder, latent, points):\n",
    "    return deep_sdf.utils.decode_sdf(decoder, latent, points).squeeze(1).detach().cpu().numpy()"
   ]
  },
  {
   "cell_type": "code",
   "execution_count": 38,
   "metadata": {},
   "outputs": [],
   "source": [
    "def get_points_on_surface(decoder, latent, points, num_iters=100, lr=0.02, decreased_by=2, adjust_lr_every=5):\n",
    "\n",
    "    def adjust_learning_rate(\n",
    "        initial_lr, optimizer, num_iterations, decreased_by, adjust_lr_every\n",
    "    ):\n",
    "        lr = initial_lr * ((1 / decreased_by) ** (num_iterations // adjust_lr_every))\n",
    "        for param_group in optimizer.param_groups:\n",
    "            param_group[\"lr\"] = lr\n",
    "    \n",
    "    decoder.eval()\n",
    "\n",
    "    current_points = torch.cuda.FloatTensor(points.detach().cpu().numpy())\n",
    "    current_points.requires_grad = True\n",
    "    \n",
    "    latent = torch.Tensor(latent.cpu().detach().numpy()).cuda()\n",
    "    ref_sdf = torch.cuda.FloatTensor([[0]] * len(points))\n",
    "    \n",
    "    optimizer = torch.optim.Adam([current_points], lr=lr)\n",
    "    loss_l1 = torch.nn.L1Loss()\n",
    "    \n",
    "    for i in range(num_iters):\n",
    "        adjust_learning_rate(lr, optimizer, i, decreased_by, adjust_lr_every)\n",
    "        \n",
    "        sdf_value = deep_sdf.decode_sdf(decoder, latent, current_points)\n",
    "        \n",
    "        optimizer.zero_grad()\n",
    "        loss = loss_l1(sdf_value, ref_sdf)\n",
    "        loss.backward()\n",
    "        optimizer.step()\n",
    "        \n",
    "    return current_points"
   ]
  },
  {
   "cell_type": "code",
   "execution_count": 39,
   "metadata": {},
   "outputs": [],
   "source": [
    "# null_points = get_points_on_surface(decoder, initial_latent, [[0, 0, 1], [0, 0, 0], [1, 0, 0]])\n",
    "# get_sdf_predictions(decoder, initial_latent, null_points)"
   ]
  },
  {
   "cell_type": "markdown",
   "metadata": {},
   "source": [
    "## Full cycle"
   ]
  },
  {
   "cell_type": "code",
   "execution_count": 87,
   "metadata": {},
   "outputs": [],
   "source": [
    "def eduardos__sphere_mult(points):\n",
    "    return [[- grad_x(x, y, z) / dx\\\n",
    "             - grad_y(x, y, z) / dy\\\n",
    "             - grad_z(x, y, z) / dz]\\\n",
    "             for (x, y, z), (dx, dy, dz) in zip(points, points.grad)]\n",
    "\n",
    "def method4_sphere_mult(points):\n",
    "    return [[deriv_sign(x,y,z) *  grad_modulo(x,y,z)] for x, y, z in points]\n",
    "\n",
    "\n",
    "def loss_sphere(points):\n",
    "    loss = 0\n",
    "    for x, y, z in points:\n",
    "        loss += compute_loss(x, y, z)\n",
    "    return loss.detach().cpu().numpy()\n",
    "\n",
    "\n",
    "def method4_to_another_shape(points, ref_points):\n",
    "    initial_dir = points.grad.clone()\n",
    "    points.grad.data.zero_()\n",
    "\n",
    "    #chamfer_dist = ChamferDistance()\n",
    "    dist1, dist2 = chamfer_dist(points[None, :, :], ref_points[None, :, :])\n",
    "    loss = (torch.mean(dist1) + torch.mean(dist2)) \n",
    "    loss.backward()\n",
    "    \n",
    "    \n",
    "    #print('Initial: ', initial_dir)\n",
    "    #print('Grad: ', points.grad)\n",
    "#    modulo = [sum(pg ** 2) for pg in points.grad]\n",
    "    #for p1, p2 in  zip(initial_dir, points.grad):\n",
    "    #     print(p1, p2, p1.dot(p2))\n",
    "#    sign = [1 if p1.dot(p2) < 0 else -1 for p1, p2 in zip(initial_dir, points.grad)]\n",
    "    sign = [-p1.dot(p2) for p1, p2 in zip(initial_dir, points.grad)]\n",
    "    #print('Modulo: ', [float(m.detach().cpu().numpy()) for m in modulo])\n",
    "    #print('Sign:   ', sign)\n",
    "    #print('Ans: ', [[s * m] for s, m in zip(sign, modulo)])\n",
    "    #print()\n",
    "    return [[s] for s in sign]\n",
    "#    return [[s * m] for s, m in zip(sign, modulo)]\n",
    "\n",
    "def chd_loss(points, ref_points):\n",
    "    #chamfer_dist = ChamferDistance()\n",
    "    dist1, dist2 = chamfer_dist(points[None, :, :], ref_points[None, :, :])\n",
    "    loss = (torch.mean(dist1) + torch.mean(dist2))\n",
    "    return loss\n",
    "\n",
    "def optimize_shape(decoder, latent, ref_latent, initial_points=None, num_points=10, \n",
    "                   num_iters=100, point_iters=100, get_grad=grad_modulo, punch_lr_at_reindex_by=1,\n",
    "                   get_sign=deriv_sign, loss=compute_loss, \n",
    "                   reindex_latent_each=50, reindex_num_iterations=500, reindex_num_samples=100,\n",
    "                   lr=0.2, decreased_by=2, adjust_lr_every=10, \n",
    "                   multiplier_func=method4_sphere_mult, loss_func=loss_sphere, verbose=None, save_to_dir=None):\n",
    "\n",
    "    def adjust_learning_rate(\n",
    "        initial_lr, optimizer, num_iterations, decreased_by, adjust_lr_every\n",
    "    ):\n",
    "        lr = initial_lr * ((1 / decreased_by) ** (num_iterations // adjust_lr_every)) \\\n",
    "                        * ((punch_lr_at_reindex_by) ** (num_iterations // reindex_latent_each))\n",
    "        for param_group in optimizer.param_groups:\n",
    "            param_group[\"lr\"] = lr\n",
    "            \n",
    "        return lr\n",
    "    \n",
    "    if not os.path.exists(os.path.join(save_to_dir, 'meshes')):\n",
    "        os.makedirs(os.path.join(save_to_dir, 'meshes'))\n",
    "    \n",
    "    try:\n",
    "        decoder.eval()\n",
    "        latent = torch.Tensor(latent.cpu().detach().numpy()).cuda()\n",
    "        latent.requires_grad = True\n",
    "        optimizer = torch.optim.Adam([latent], lr=lr)\n",
    "\n",
    "        loss_plot = []\n",
    "        latent_dist = []\n",
    "        lr_plot = []\n",
    "\n",
    "    #         if initial_points is not None:\n",
    "    #             points = initial_points.clone()\n",
    "    #         else:\n",
    "    #             points = get_points_from_latent(decoder, latent, N=128, point_num=num_points)\n",
    "\n",
    "        for i in tqdm(range(num_iters)):\n",
    "            \n",
    "            save_path = os.path.join(save_to_dir, 'meshes/' + str(i).zfill(5) + \".ply\")\n",
    "            \n",
    "            if i > 0 and i % reindex_latent_each == 0:\n",
    "                new_latent = get_latent_from_mesh(decoder, latent_size=latent.size()[1], \n",
    "                                                  reindex_num_iterations=reindex_num_iterations, \n",
    "                                                  reindex_num_samples=reindex_num_samples)\n",
    "                latent = torch.Tensor(new_latent.cpu().detach().numpy()).cuda()\n",
    "                latent.requires_grad = True\n",
    "                optimizer = torch.optim.Adam([latent], lr=lr)\n",
    "\n",
    "            cur_rl = adjust_learning_rate(lr, optimizer, i, decreased_by, adjust_lr_every)\n",
    "\n",
    "            points = get_points_from_latent(decoder, latent, N=128, point_num=num_points, save_path=save_path) # grid\n",
    "            # points = get_points_on_surface(decoder, latent, points, num_iters=point_iters)  # optimization\n",
    "            points.requires_grad = True\n",
    "\n",
    "            sdf_value = deep_sdf.utils.decode_sdf(decoder, latent, points)\n",
    "            sdf_value.backward(torch.ones([len(points), 1], dtype=torch.float32).cuda())\n",
    "            multipliers = torch.cuda.FloatTensor(multiplier_func(points))\n",
    "\n",
    "            optimizer.zero_grad()\n",
    "            sdf_value = deep_sdf.utils.decode_sdf(decoder, latent, points)\n",
    "            sdf_value.backward(multipliers)\n",
    "            #print(multipliers)\n",
    "            #print(latent.grad)\n",
    "            optimizer.step()\n",
    "\n",
    "            loss_value = loss_func(points)\n",
    "            \n",
    "            if save_to_dir is not None:\n",
    "                plot_points_from_torch\n",
    "                \n",
    "            if verbose is not None and i % verbose == 0:\n",
    "                print('Iter ', i, 'Loss: ', loss_value.detach().cpu().numpy(), ' LR: ', cur_rl)\n",
    "                #plot_points_from_torch(points)\n",
    "\n",
    "            loss_plot.append(loss_value.cpu().detach().numpy())\n",
    "            latent_dist.append(torch.sum((latent - ref_latent) ** 2 ).cpu().detach().numpy() )\n",
    "            lr_plot.append(cur_rl)\n",
    "    except:\n",
    "        ex, a, tr = sys.exc_info()\n",
    "        traceback.print_tb(tr)\n",
    "        print (\"Unexpected error:\", ex)\n",
    "    finally:\n",
    "        np.save(os.path.join(save_to_dir, \"loss_plot.npy\"), loss_plot)\n",
    "        np.save(os.path.join(save_to_dir, \"latent_dist.npy\"), latent_dist)\n",
    "        np.save(os.path.join(save_to_dir, \"lr_plot.npy\"), lr_plot)\n",
    "        return latent, loss_plot, latent_dist"
   ]
  },
  {
   "cell_type": "markdown",
   "metadata": {},
   "source": [
    "## Initial meshes \n",
    "\n",
    "13, 18\n",
    "\n",
    "900"
   ]
  },
  {
   "cell_type": "code",
   "execution_count": 83,
   "metadata": {},
   "outputs": [
    {
     "data": {
      "application/vnd.jupyter.widget-view+json": {
       "model_id": "1f60f66096184c43bfa7665d3097c1d3",
       "version_major": 2,
       "version_minor": 0
      },
      "text/plain": [
       "Renderer(camera=PerspectiveCamera(aspect=1.6, fov=90.0, position=(0.00803152285516262, 0.2946537062525749, 0.7…"
      ]
     },
     "metadata": {},
     "output_type": "display_data"
    },
    {
     "data": {
      "application/vnd.jupyter.widget-view+json": {
       "model_id": "aa575549160d41c7bc641f0b39a4f701",
       "version_major": 2,
       "version_minor": 0
      },
      "text/plain": [
       "HBox(children=(Label(value='Point size:'), FloatSlider(value=0.003, max=0.03, step=3e-05), Label(value='Backgr…"
      ]
     },
     "metadata": {},
     "output_type": "display_data"
    }
   ],
   "source": [
    "ref_latent = latent_vectors[13].clone()\n",
    "plot_mesh_from_vector(decoder, ref_latent, N=128)"
   ]
  },
  {
   "cell_type": "code",
   "execution_count": 43,
   "metadata": {},
   "outputs": [
    {
     "data": {
      "application/vnd.jupyter.widget-view+json": {
       "model_id": "177acbc11f644a289432a9b625c3bd27",
       "version_major": 2,
       "version_minor": 0
      },
      "text/plain": [
       "Renderer(camera=PerspectiveCamera(aspect=1.6, fov=90.0, position=(-0.003714696504175663, 0.19790592789649963, …"
      ]
     },
     "metadata": {},
     "output_type": "display_data"
    },
    {
     "data": {
      "application/vnd.jupyter.widget-view+json": {
       "model_id": "c55aa6fb688749d18be32686f2bdb6c0",
       "version_major": 2,
       "version_minor": 0
      },
      "text/plain": [
       "HBox(children=(Label(value='Point size:'), FloatSlider(value=0.003, max=0.03, step=3e-05), Label(value='Backgr…"
      ]
     },
     "metadata": {},
     "output_type": "display_data"
    }
   ],
   "source": [
    "initial_latent = latent_vectors[99].clone()\n",
    "plot_mesh_from_vector(decoder, initial_latent, N=128)"
   ]
  },
  {
   "cell_type": "code",
   "execution_count": 46,
   "metadata": {},
   "outputs": [
    {
     "name": "stdout",
     "output_type": "stream",
     "text": [
      "Initial distance:  tensor(0.0349, device='cuda:0')\n"
     ]
    }
   ],
   "source": [
    "ref_points = get_points_from_latent(decoder, ref_latent, N=128)\n",
    "initial_points = get_points_from_latent(decoder, initial_latent, N=128)\n",
    "\n",
    "# chamfer_dist = ChamferDistance()\n",
    "dist1, dist2 = chamfer_dist(initial_points[None, :, :], ref_points[None, :, :])\n",
    "loss = (torch.mean(dist1)) + (torch.mean(dist2))\n",
    "\n",
    "print('Initial distance: ', loss)"
   ]
  },
  {
   "cell_type": "code",
   "execution_count": 47,
   "metadata": {},
   "outputs": [
    {
     "data": {
      "text/plain": [
       "torch.Size([10606, 3])"
      ]
     },
     "execution_count": 47,
     "metadata": {},
     "output_type": "execute_result"
    }
   ],
   "source": [
    "initial_points.size()"
   ]
  },
  {
   "cell_type": "code",
   "execution_count": 48,
   "metadata": {},
   "outputs": [],
   "source": [
    "# for i in range(0, len(ref_points)):\n",
    "#     ref_points[i][0] += random.random() / 30\n",
    "#     ref_points[i][1] += random.random() / 30\n",
    "#     ref_points[i][2] += random.random() / 30"
   ]
  },
  {
   "cell_type": "code",
   "execution_count": 49,
   "metadata": {},
   "outputs": [
    {
     "data": {
      "application/vnd.jupyter.widget-view+json": {
       "model_id": "5c04eb6dac024aed9845aa17c1626884",
       "version_major": 2,
       "version_minor": 0
      },
      "text/plain": [
       "Renderer(camera=PerspectiveCamera(aspect=1.6, fov=90.0, position=(-0.003238390199840069, 0.18348430842161179, …"
      ]
     },
     "metadata": {},
     "output_type": "display_data"
    },
    {
     "data": {
      "application/vnd.jupyter.widget-view+json": {
       "model_id": "f9174687f89849a7a1be51eeebae9fec",
       "version_major": 2,
       "version_minor": 0
      },
      "text/plain": [
       "HBox(children=(Label(value='Point size:'), FloatSlider(value=0.003, max=0.03, step=3e-05), Label(value='Backgr…"
      ]
     },
     "metadata": {},
     "output_type": "display_data"
    }
   ],
   "source": [
    "plot_points_from_torch(torch.cat((ref_points, initial_points), dim=0))"
   ]
  },
  {
   "cell_type": "code",
   "execution_count": 50,
   "metadata": {},
   "outputs": [
    {
     "data": {
      "text/plain": [
       "tensor(0.0349, device='cuda:0')"
      ]
     },
     "execution_count": 50,
     "metadata": {},
     "output_type": "execute_result"
    }
   ],
   "source": [
    "chd_loss(ref_points, initial_points)"
   ]
  },
  {
   "cell_type": "markdown",
   "metadata": {},
   "source": [
    "## Num points = 1"
   ]
  },
  {
   "cell_type": "code",
   "execution_count": 51,
   "metadata": {},
   "outputs": [],
   "source": [
    "num_points = 30000\n",
    "initial_latent = latent_vectors[0].clone()\n",
    "red_ref_points = subsample_from_torch_tensor(ref_points, num_points)\n",
    "red_ini_points = subsample_from_torch_tensor(initial_points, num_points)"
   ]
  },
  {
   "cell_type": "code",
   "execution_count": 78,
   "metadata": {},
   "outputs": [
    {
     "data": {
      "application/vnd.jupyter.widget-view+json": {
       "model_id": "ae14147da6d748d9a55bc0c4299bbffe",
       "version_major": 2,
       "version_minor": 0
      },
      "text/plain": [
       "HBox(children=(IntProgress(value=0, max=1000), HTML(value='')))"
      ]
     },
     "metadata": {},
     "output_type": "display_data"
    },
    {
     "name": "stdout",
     "output_type": "stream",
     "text": [
      "Iter  0 Loss:  0.049752247  LR:  0.005\n",
      "Iter  10 Loss:  0.0068711257  LR:  0.004166666666666667\n",
      "Iter  20 Loss:  0.0063878335  LR:  0.003472222222222223\n",
      "Iter  30 Loss:  0.006177297  LR:  0.0028935185185185192\n",
      "Iter  40 Loss:  0.0061042225  LR:  0.0024112654320987657\n",
      "Iter  50 Loss:  0.0059985304  LR:  0.002009387860082305\n",
      "Iter  60 Loss:  0.005876679  LR:  0.001674489883401921\n",
      "Iter  70 Loss:  0.005751063  LR:  0.0013954082361682673\n",
      "Iter  80 Loss:  0.0056393114  LR:  0.0011628401968068896\n",
      "Iter  90 Loss:  0.005681187  LR:  0.0009690334973390748\n",
      "\n",
      "Iter  100 Loss:  0.011173278  LR:  0.005\n",
      "Iter  110 Loss:  0.0058712987  LR:  0.004166666666666667\n",
      "Iter  120 Loss:  0.0054913885  LR:  0.003472222222222223\n",
      "Iter  130 Loss:  0.0055734403  LR:  0.0028935185185185192\n",
      "Iter  140 Loss:  0.005134249  LR:  0.0024112654320987657\n",
      "Iter  150 Loss:  0.0059364224  LR:  0.002009387860082305\n",
      "Iter  160 Loss:  0.005549251  LR:  0.001674489883401921\n",
      "Iter  170 Loss:  0.005037844  LR:  0.0013954082361682673\n",
      "Iter  180 Loss:  0.0045860424  LR:  0.0011628401968068896\n",
      "Iter  190 Loss:  0.0041529974  LR:  0.0009690334973390748\n",
      "\n",
      "Iter  200 Loss:  0.010350542  LR:  0.005\n",
      "Unexpected error: <class 'KeyboardInterrupt'>\n"
     ]
    },
    {
     "name": "stderr",
     "output_type": "stream",
     "text": [
      "  File \"<ipython-input-76-71d46a601482>\", line 93, in optimize_shape\n",
      "    points = get_points_from_latent(decoder, latent, N=128, point_num=num_points, save_path=save_path) # grid\n",
      "  File \"/cvlabdata2/home/artem/DeepSDF/custom_utils.py\", line 257, in get_points_from_latent\n",
      "    cloud = get_cloud_from_latent(decoder, initial_latent, N, save_path=save_path)\n",
      "  File \"/cvlabdata2/home/artem/DeepSDF/custom_utils.py\", line 240, in get_cloud_from_latent\n",
      "    scale=None)\n",
      "  File \"/cvlabdata2/home/artem/DeepSDF/custom_utils.py\", line 94, in create_mesh\n",
      "    .squeeze(1)\n"
     ]
    }
   ],
   "source": [
    "save_to_dir = '../Expirements/SavedTransforms/99-18_1'\n",
    "if not os.path.exists(save_to_dir):\n",
    "    os.makedirs(save_to_dir)\n",
    "\n",
    "np.save(os.path.join(save_to_dir, \"target_verts.npy\"), ref_points)\n",
    "\n",
    "opt_latent, loss_hist, latent_dist  =\\\n",
    "                optimize_shape(decoder, initial_latent, ref_latent, initial_points=None, reindex_latent_each=100,\n",
    "                               num_points=None, num_iters=1000, adjust_lr_every=10, point_iters=2, decreased_by=1.2,\n",
    "                               multiplier_func=lambda x: method4_to_another_shape(x, ref_points),\n",
    "                               loss_func=lambda x: chd_loss(x, ref_points), lr=0.005, verbose=10, \n",
    "                               save_to_dir=save_to_dir)"
   ]
  },
  {
   "cell_type": "code",
   "execution_count": 68,
   "metadata": {},
   "outputs": [
    {
     "data": {
      "image/png": "[encoded data removed]",
      "text/plain": [
       "<Figure size 1008x432 with 1 Axes>"
      ]
     },
     "metadata": {
      "needs_background": "light"
     },
     "output_type": "display_data"
    }
   ],
   "source": [
    "plt.figure(figsize=(14, 6))\n",
    "#plt.yscale(\"log\")\n",
    "plt.xlabel('Iteration')\n",
    "plt.ylabel('Loss')\n",
    "plt.plot(loss_hist)\n",
    "plt.show()"
   ]
  },
  {
   "cell_type": "code",
   "execution_count": 69,
   "metadata": {},
   "outputs": [
    {
     "data": {
      "image/png": "[encoded data removed]",
      "text/plain": [
       "<Figure size 1008x432 with 1 Axes>"
      ]
     },
     "metadata": {
      "needs_background": "light"
     },
     "output_type": "display_data"
    }
   ],
   "source": [
    "plt.figure(figsize=(14, 6))\n",
    "#plt.yscale(\"log\")\n",
    "plt.xlabel('Iteration')\n",
    "plt.ylabel('LatentDist')\n",
    "plt.plot(latent_dist)\n",
    "plt.show()"
   ]
  },
  {
   "cell_type": "code",
   "execution_count": 112,
   "metadata": {},
   "outputs": [
    {
     "data": {
      "application/vnd.jupyter.widget-view+json": {
       "model_id": "35f57f5be5544a6aa0b9b001848a6ea7",
       "version_major": 2,
       "version_minor": 0
      },
      "text/plain": [
       "Renderer(camera=PerspectiveCamera(aspect=1.6, fov=90.0, position=(-0.0024567563086748123, 0.19819354265928268,…"
      ]
     },
     "metadata": {},
     "output_type": "display_data"
    },
    {
     "data": {
      "application/vnd.jupyter.widget-view+json": {
       "model_id": "c3abab7716e24f62820b8eb5536f27f5",
       "version_major": 2,
       "version_minor": 0
      },
      "text/plain": [
       "HBox(children=(Label(value='Point size:'), FloatSlider(value=0.003, max=0.03, step=3e-05), Label(value='Backgr…"
      ]
     },
     "metadata": {},
     "output_type": "display_data"
    }
   ],
   "source": [
    "plot_mesh_from_vector(decoder, opt_latent, N=256)"
   ]
  },
  {
   "cell_type": "code",
   "execution_count": 117,
   "metadata": {},
   "outputs": [
    {
     "data": {
      "text/plain": [
       "tensor(2.0428, device='cuda:0', grad_fn=<SumBackward0>)"
      ]
     },
     "execution_count": 117,
     "metadata": {},
     "output_type": "execute_result"
    }
   ],
   "source": [
    "torch.sum((opt_latent - ref_latent) ** 2)"
   ]
  },
  {
   "cell_type": "markdown",
   "metadata": {},
   "source": [
    "## A lot of automized experiments"
   ]
  },
  {
   "cell_type": "code",
   "execution_count": 88,
   "metadata": {},
   "outputs": [],
   "source": [
    "def make_full_transformation(initial_latent, ref_latent, experiment_name, decoder, **kwargs):\n",
    "    '''\n",
    "    kwargs:\n",
    "        num_iters=1000, \n",
    "        adjust_lr_every=10, \n",
    "        reindex_latent_each=100,\n",
    "        decreased_by=1.2,\n",
    "        lr=0.005,\n",
    "        verbose=10,\n",
    "        punch_lr_at_reindex_by=1,\n",
    "        reindex_num_iterations=500, \n",
    "        reindex_num_samples=100,\n",
    "    '''\n",
    "\n",
    "    ref_points = get_points_from_latent(decoder, ref_latent, N=128)\n",
    "\n",
    "    save_to_dir = os.path.join('../Expirements/SavedTransforms/' + experiment_name)\n",
    "    if not os.path.exists(save_to_dir):\n",
    "        os.makedirs(save_to_dir)\n",
    "\n",
    "    np.save(os.path.join(save_to_dir, \"target_verts.npy\"), ref_points)\n",
    "\n",
    "    opt_latent, loss_hist, latent_dist  =\\\n",
    "                    optimize_shape(decoder, initial_latent, ref_latent, initial_points=None,\n",
    "                                   num_points=None, point_iters=2,\n",
    "                                   multiplier_func=lambda x: method4_to_another_shape(x, ref_points),\n",
    "                                   loss_func=lambda x: chd_loss(x, ref_points), \n",
    "                                   save_to_dir=save_to_dir, **kwargs)\n",
    "    \n",
    "    return opt_latent, loss_hist, latent_dist"
   ]
  },
  {
   "cell_type": "code",
   "execution_count": null,
   "metadata": {},
   "outputs": [
    {
     "data": {
      "application/vnd.jupyter.widget-view+json": {
       "model_id": "bb557c33fb0f4f2282c1d34079855446",
       "version_major": 2,
       "version_minor": 0
      },
      "text/plain": [
       "HBox(children=(IntProgress(value=0, max=1000), HTML(value='')))"
      ]
     },
     "metadata": {},
     "output_type": "display_data"
    },
    {
     "name": "stdout",
     "output_type": "stream",
     "text": [
      "Iter  0 Loss:  0.008907799  LR:  0.005\n",
      "Iter  10 Loss:  0.0031359172  LR:  0.005\n",
      "Iter  20 Loss:  0.0018309206  LR:  0.004545454545454545\n",
      "Iter  30 Loss:  0.0017779788  LR:  0.004545454545454545\n",
      "Iter  40 Loss:  0.0019068646  LR:  0.004132231404958677\n",
      "Iter  50 Loss:  0.001997145  LR:  0.004132231404958677\n",
      "Iter  60 Loss:  0.0020447786  LR:  0.0037565740045078884\n",
      "Iter  70 Loss:  0.002107809  LR:  0.0037565740045078884\n",
      "Iter  80 Loss:  0.0021275836  LR:  0.0034150672768253534\n",
      "Iter  90 Loss:  0.0021776338  LR:  0.0034150672768253534\n",
      "Iter  100 Loss:  0.0020111247  LR:  0.0031046066152957755\n",
      "Iter  110 Loss:  0.0019093017  LR:  0.0031046066152957755\n",
      "Iter  120 Loss:  0.0017579078  LR:  0.002822369650268887\n",
      "Iter  130 Loss:  0.0017750952  LR:  0.002822369650268887\n",
      "Iter  140 Loss:  0.0017773976  LR:  0.0025657905911535333\n",
      "Iter  150 Loss:  0.0017600582  LR:  0.0025657905911535333\n",
      "Iter  160 Loss:  0.0017962141  LR:  0.0023325369010486667\n",
      "Iter  170 Loss:  0.0016968595  LR:  0.0023325369010486667\n",
      "Iter  180 Loss:  0.0015616381  LR:  0.0021204880918624237\n",
      "Iter  190 Loss:  0.0015725208  LR:  0.0021204880918624237\n",
      "Iter  200 Loss:  0.001570204  LR:  0.0019277164471476582\n",
      "Iter  210 Loss:  0.0015549705  LR:  0.0019277164471476582\n",
      "Iter  220 Loss:  0.0015446348  LR:  0.001752469497406962\n",
      "Iter  230 Loss:  0.0014648335  LR:  0.001752469497406962\n",
      "Iter  240 Loss:  0.0014885592  LR:  0.0015931540885517834\n"
     ]
    }
   ],
   "source": [
    "opt_latent, loss_hist, latent_dist =\\\n",
    "make_full_transformation(latent_vectors[0].clone(), latent_vectors[99].clone(), \"0-99_usual\", decoder, \n",
    "                         num_iters=1000, \n",
    "                         adjust_lr_every=20, \n",
    "                         decreased_by=1.1,\n",
    "                         lr=0.005,\n",
    "                         verbose=10,\n",
    "                         reindex_latent_each=10000,\n",
    "                         punch_lr_at_reindex_by=1,\n",
    "                         reindex_num_iterations=500, \n",
    "                         reindex_num_samples=100,)"
   ]
  },
  {
   "cell_type": "code",
   "execution_count": null,
   "metadata": {},
   "outputs": [],
   "source": [
    "opt_latent, loss_hist, latent_dist =\\\n",
    "make_full_transformation(latent_vectors[0].clone(), latent_vectors[18].clone(), \"0-18_usual\", decoder, \n",
    "                         num_iters=1000, \n",
    "                         adjust_lr_every=10, \n",
    "                         decreased_by=1.1,\n",
    "                         lr=0.005,\n",
    "                         verbose=None,\n",
    "                         reindex_latent_each=10000,\n",
    "                         punch_lr_at_reindex_by=1,\n",
    "                         reindex_num_iterations=500, \n",
    "                         reindex_num_samples=100,)"
   ]
  },
  {
   "cell_type": "code",
   "execution_count": null,
   "metadata": {},
   "outputs": [],
   "source": [
    "opt_latent, loss_hist, latent_dist =\\\n",
    "make_full_transformation(latent_vectors[0].clone(), latent_vectors[13].clone(), \"0-13_usual\", decoder, \n",
    "                         num_iters=1000, \n",
    "                         adjust_lr_every=10, \n",
    "                         decreased_by=1.1,\n",
    "                         lr=0.005,\n",
    "                         verbose=None,\n",
    "                         reindex_latent_each=10000,\n",
    "                         punch_lr_at_reindex_by=1,\n",
    "                         reindex_num_iterations=500, \n",
    "                         reindex_num_samples=100,)"
   ]
  },
  {
   "cell_type": "code",
   "execution_count": null,
   "metadata": {},
   "outputs": [],
   "source": [
    "opt_latent, loss_hist, latent_dist =\\\n",
    "make_full_transformation(latent_vectors[0].clone(), latent_vectors[18].clone(), \"0-18_reindex_weak\", decoder, \n",
    "                         num_iters=1000, \n",
    "                         adjust_lr_every=10, \n",
    "                         decreased_by=1.2,\n",
    "                         lr=0.005,\n",
    "                         verbose=None,\n",
    "                         reindex_latent_each=100,\n",
    "                         punch_lr_at_reindex_by=1.2 ** 3,\n",
    "                         reindex_num_iterations=500, \n",
    "                         reindex_num_samples=100,)"
   ]
  },
  {
   "cell_type": "code",
   "execution_count": null,
   "metadata": {},
   "outputs": [],
   "source": [
    "opt_latent, loss_hist, latent_dist =\\\n",
    "make_full_transformation(latent_vectors[0].clone(), latent_vectors[13].clone(), \"0-13_reindex_weak\", decoder, \n",
    "                         num_iters=1000, \n",
    "                         adjust_lr_every=10, \n",
    "                         decreased_by=1.2,\n",
    "                         lr=0.005,\n",
    "                         verbose=None,\n",
    "                         reindex_latent_each=100,\n",
    "                         punch_lr_at_reindex_by=1.2 ** 3,\n",
    "                         reindex_num_iterations=500, \n",
    "                         reindex_num_samples=100,)"
   ]
  },
  {
   "cell_type": "code",
   "execution_count": null,
   "metadata": {},
   "outputs": [],
   "source": [
    "opt_latent, loss_hist, latent_dist =\\\n",
    "make_full_transformation(latent_vectors[0].clone(), latent_vectors[18].clone(), \"0-18_reindex_strong\", decoder, \n",
    "                         num_iters=1000, \n",
    "                         adjust_lr_every=10, \n",
    "                         decreased_by=1.2,\n",
    "                         lr=0.005,\n",
    "                         verbose=None,\n",
    "                         reindex_latent_each=100,\n",
    "                         punch_lr_at_reindex_by=1.2 ** 3,\n",
    "                         reindex_num_iterations=500, \n",
    "                         reindex_num_samples=1000,)"
   ]
  },
  {
   "cell_type": "code",
   "execution_count": null,
   "metadata": {},
   "outputs": [],
   "source": [
    "opt_latent, loss_hist, latent_dist =\\\n",
    "make_full_transformation(latent_vectors[0].clone(), latent_vectors[18].clone(), \"0-18_super_weak\", decoder, \n",
    "                         num_iters=1000, \n",
    "                         adjust_lr_every=10, \n",
    "                         decreased_by=1.2,\n",
    "                         lr=0.005,\n",
    "                         verbose=None,\n",
    "                         reindex_latent_each=100,\n",
    "                         punch_lr_at_reindex_by=1.2 ** 3,\n",
    "                         reindex_num_iterations=10, \n",
    "                         reindex_num_samples=100,)"
   ]
  },
  {
   "cell_type": "code",
   "execution_count": null,
   "metadata": {},
   "outputs": [],
   "source": [
    "opt_latent, loss_hist, latent_dist =\\\n",
    "make_full_transformation(latent_vectors[0].clone(), latent_vectors[13].clone(), \"0-13_super_weak\", decoder, \n",
    "                         num_iters=1000, \n",
    "                         adjust_lr_every=10, \n",
    "                         decreased_by=1.2,\n",
    "                         lr=0.005,\n",
    "                         verbose=None,\n",
    "                         reindex_latent_each=100,\n",
    "                         punch_lr_at_reindex_by=1.2 ** 3,\n",
    "                         reindex_num_iterations=10, \n",
    "                         reindex_num_samples=100,)"
   ]
  },
  {
   "cell_type": "markdown",
   "metadata": {},
   "source": [
    "## Num points = 10"
   ]
  },
  {
   "cell_type": "code",
   "execution_count": 455,
   "metadata": {},
   "outputs": [
    {
     "data": {
      "application/vnd.jupyter.widget-view+json": {
       "model_id": "8631721b3e7f4f7cadb1c392c2e23a2b",
       "version_major": 2,
       "version_minor": 0
      },
      "text/plain": [
       "HBox(children=(IntProgress(value=0, max=30), HTML(value='')))"
      ]
     },
     "metadata": {},
     "output_type": "display_data"
    },
    {
     "name": "stdout",
     "output_type": "stream",
     "text": [
      "Initial:  tensor([[-0.0003,  1.9427, -0.0072]], device='cuda:0')\n",
      "Grad:  tensor([[ 0.7091,  2.6394, -0.1131]], device='cuda:0')\n",
      "Modulo:  [tensor(7.4823, device='cuda:0')]\n",
      "Sign:    [-1]\n",
      "Ans:  [[tensor(-7.4823, device='cuda:0')]]\n",
      "\n",
      "Initial:  tensor([[-0.0015,  0.3126, -0.5990]], device='cuda:0')\n",
      "Grad:  tensor([[-0.9186,  0.1471, -0.2365]], device='cuda:0')\n",
      "Modulo:  [tensor(0.9214, device='cuda:0')]\n",
      "Sign:    [-1]\n",
      "Ans:  [[tensor(-0.9214, device='cuda:0')]]\n",
      "\n",
      "\n"
     ]
    },
    {
     "ename": "KeyboardInterrupt",
     "evalue": "",
     "output_type": "error",
     "traceback": [
      "\u001b[0;31m---------------------------------------------------------------------------\u001b[0m",
      "\u001b[0;31mKeyboardInterrupt\u001b[0m                         Traceback (most recent call last)",
      "\u001b[0;32m<ipython-input-455-b81954898c21>\u001b[0m in \u001b[0;36m<module>\u001b[0;34m\u001b[0m\n\u001b[1;32m      2\u001b[0m opt_latent, loss_hist = optimize_shape(decoder, initial_latent, num_points=1, num_iters=30, adjust_lr_every=10,\n\u001b[1;32m      3\u001b[0m                                        \u001b[0mmultiplier_func\u001b[0m\u001b[0;34m=\u001b[0m\u001b[0;32mlambda\u001b[0m \u001b[0mx\u001b[0m\u001b[0;34m:\u001b[0m \u001b[0mmethod4_to_another_shape\u001b[0m\u001b[0;34m(\u001b[0m\u001b[0mx\u001b[0m\u001b[0;34m,\u001b[0m \u001b[0mref_points\u001b[0m\u001b[0;34m)\u001b[0m\u001b[0;34m,\u001b[0m\u001b[0;34m\u001b[0m\u001b[0;34m\u001b[0m\u001b[0m\n\u001b[0;32m----> 4\u001b[0;31m                                        loss_func=lambda x: chd_loss(x, ref_points))\n\u001b[0m",
      "\u001b[0;32m<ipython-input-453-ec44c1c321ab>\u001b[0m in \u001b[0;36moptimize_shape\u001b[0;34m(decoder, latent, num_points, num_iters, get_grad, get_sign, loss, lr, decreased_by, adjust_lr_every, multiplier_func, loss_func)\u001b[0m\n\u001b[1;32m     67\u001b[0m \u001b[0;34m\u001b[0m\u001b[0m\n\u001b[1;32m     68\u001b[0m         \u001b[0;31m#points = get_points_from_latent(decoder, latent, N=32, point_num=num_points)\u001b[0m\u001b[0;34m\u001b[0m\u001b[0;34m\u001b[0m\u001b[0;34m\u001b[0m\u001b[0m\n\u001b[0;32m---> 69\u001b[0;31m         \u001b[0mpoints\u001b[0m \u001b[0;34m=\u001b[0m \u001b[0mget_points_on_surface\u001b[0m\u001b[0;34m(\u001b[0m\u001b[0mdecoder\u001b[0m\u001b[0;34m,\u001b[0m \u001b[0mlatent\u001b[0m\u001b[0;34m,\u001b[0m \u001b[0mnp\u001b[0m\u001b[0;34m.\u001b[0m\u001b[0mrandom\u001b[0m\u001b[0;34m.\u001b[0m\u001b[0mrand\u001b[0m\u001b[0;34m(\u001b[0m\u001b[0mnum_points\u001b[0m\u001b[0;34m,\u001b[0m \u001b[0;36m3\u001b[0m\u001b[0;34m)\u001b[0m\u001b[0;34m)\u001b[0m\u001b[0;34m\u001b[0m\u001b[0;34m\u001b[0m\u001b[0m\n\u001b[0m\u001b[1;32m     70\u001b[0m         \u001b[0mpoints\u001b[0m\u001b[0;34m.\u001b[0m\u001b[0mrequires_grad\u001b[0m \u001b[0;34m=\u001b[0m \u001b[0;32mTrue\u001b[0m\u001b[0;34m\u001b[0m\u001b[0;34m\u001b[0m\u001b[0m\n\u001b[1;32m     71\u001b[0m \u001b[0;34m\u001b[0m\u001b[0m\n",
      "\u001b[0;32m<ipython-input-8-69cb04b3cf42>\u001b[0m in \u001b[0;36mget_points_on_surface\u001b[0;34m(decoder, latent, points, num_iters, lr, decreased_by, adjust_lr_every)\u001b[0m\n\u001b[1;32m     25\u001b[0m         \u001b[0moptimizer\u001b[0m\u001b[0;34m.\u001b[0m\u001b[0mzero_grad\u001b[0m\u001b[0;34m(\u001b[0m\u001b[0;34m)\u001b[0m\u001b[0;34m\u001b[0m\u001b[0;34m\u001b[0m\u001b[0m\n\u001b[1;32m     26\u001b[0m         \u001b[0mloss\u001b[0m \u001b[0;34m=\u001b[0m \u001b[0mloss_l1\u001b[0m\u001b[0;34m(\u001b[0m\u001b[0msdf_value\u001b[0m\u001b[0;34m,\u001b[0m \u001b[0mref_sdf\u001b[0m\u001b[0;34m)\u001b[0m\u001b[0;34m\u001b[0m\u001b[0;34m\u001b[0m\u001b[0m\n\u001b[0;32m---> 27\u001b[0;31m         \u001b[0mloss\u001b[0m\u001b[0;34m.\u001b[0m\u001b[0mbackward\u001b[0m\u001b[0;34m(\u001b[0m\u001b[0;34m)\u001b[0m\u001b[0;34m\u001b[0m\u001b[0;34m\u001b[0m\u001b[0m\n\u001b[0m\u001b[1;32m     28\u001b[0m         \u001b[0moptimizer\u001b[0m\u001b[0;34m.\u001b[0m\u001b[0mstep\u001b[0m\u001b[0;34m(\u001b[0m\u001b[0;34m)\u001b[0m\u001b[0;34m\u001b[0m\u001b[0;34m\u001b[0m\u001b[0m\n\u001b[1;32m     29\u001b[0m \u001b[0;34m\u001b[0m\u001b[0m\n",
      "\u001b[0;32m~/miniconda3/envs/main_env/lib/python3.7/site-packages/torch/tensor.py\u001b[0m in \u001b[0;36mbackward\u001b[0;34m(self, gradient, retain_graph, create_graph)\u001b[0m\n\u001b[1;32m     91\u001b[0m                 \u001b[0mproducts\u001b[0m\u001b[0;34m.\u001b[0m \u001b[0mDefaults\u001b[0m \u001b[0mto\u001b[0m\u001b[0;31m \u001b[0m\u001b[0;31m`\u001b[0m\u001b[0;31m`\u001b[0m\u001b[0;32mFalse\u001b[0m\u001b[0;31m`\u001b[0m\u001b[0;31m`\u001b[0m\u001b[0;34m.\u001b[0m\u001b[0;34m\u001b[0m\u001b[0;34m\u001b[0m\u001b[0m\n\u001b[1;32m     92\u001b[0m         \"\"\"\n\u001b[0;32m---> 93\u001b[0;31m         \u001b[0mtorch\u001b[0m\u001b[0;34m.\u001b[0m\u001b[0mautograd\u001b[0m\u001b[0;34m.\u001b[0m\u001b[0mbackward\u001b[0m\u001b[0;34m(\u001b[0m\u001b[0mself\u001b[0m\u001b[0;34m,\u001b[0m \u001b[0mgradient\u001b[0m\u001b[0;34m,\u001b[0m \u001b[0mretain_graph\u001b[0m\u001b[0;34m,\u001b[0m \u001b[0mcreate_graph\u001b[0m\u001b[0;34m)\u001b[0m\u001b[0;34m\u001b[0m\u001b[0;34m\u001b[0m\u001b[0m\n\u001b[0m\u001b[1;32m     94\u001b[0m \u001b[0;34m\u001b[0m\u001b[0m\n\u001b[1;32m     95\u001b[0m     \u001b[0;32mdef\u001b[0m \u001b[0mregister_hook\u001b[0m\u001b[0;34m(\u001b[0m\u001b[0mself\u001b[0m\u001b[0;34m,\u001b[0m \u001b[0mhook\u001b[0m\u001b[0;34m)\u001b[0m\u001b[0;34m:\u001b[0m\u001b[0;34m\u001b[0m\u001b[0;34m\u001b[0m\u001b[0m\n",
      "\u001b[0;32m~/miniconda3/envs/main_env/lib/python3.7/site-packages/torch/autograd/__init__.py\u001b[0m in \u001b[0;36mbackward\u001b[0;34m(tensors, grad_tensors, retain_graph, create_graph, grad_variables)\u001b[0m\n\u001b[1;32m     88\u001b[0m     Variable._execution_engine.run_backward(\n\u001b[1;32m     89\u001b[0m         \u001b[0mtensors\u001b[0m\u001b[0;34m,\u001b[0m \u001b[0mgrad_tensors\u001b[0m\u001b[0;34m,\u001b[0m \u001b[0mretain_graph\u001b[0m\u001b[0;34m,\u001b[0m \u001b[0mcreate_graph\u001b[0m\u001b[0;34m,\u001b[0m\u001b[0;34m\u001b[0m\u001b[0;34m\u001b[0m\u001b[0m\n\u001b[0;32m---> 90\u001b[0;31m         allow_unreachable=True)  # allow_unreachable flag\n\u001b[0m\u001b[1;32m     91\u001b[0m \u001b[0;34m\u001b[0m\u001b[0m\n\u001b[1;32m     92\u001b[0m \u001b[0;34m\u001b[0m\u001b[0m\n",
      "\u001b[0;31mKeyboardInterrupt\u001b[0m: "
     ]
    }
   ],
   "source": [
    "initial_latent = latent_vectors[99].clone()\n",
    "opt_latent, loss_hist = optimize_shape(decoder, initial_latent, num_points=1, num_iters=30, adjust_lr_every=10,\n",
    "                                       multiplier_func=lambda x: method4_to_another_shape(x, ref_points),\n",
    "                                       loss_func=lambda x: chd_loss(x, ref_points))"
   ]
  },
  {
   "cell_type": "code",
   "execution_count": 943,
   "metadata": {},
   "outputs": [
    {
     "data": {
      "image/png": "[encoded data removed]",
      "text/plain": [
       "<Figure size 1008x432 with 1 Axes>"
      ]
     },
     "metadata": {
      "needs_background": "light"
     },
     "output_type": "display_data"
    }
   ],
   "source": [
    "plt.figure(figsize=(14, 6))\n",
    "#plt.yscale(\"log\")\n",
    "plt.xlabel('Iteration')\n",
    "plt.ylabel('Loss')\n",
    "plt.plot(loss_hist)\n",
    "plt.show()"
   ]
  },
  {
   "cell_type": "code",
   "execution_count": 944,
   "metadata": {},
   "outputs": [
    {
     "data": {
      "application/vnd.jupyter.widget-view+json": {
       "model_id": "08cbadd660a144a3ad99310e24d1ae36",
       "version_major": 2,
       "version_minor": 0
      },
      "text/plain": [
       "Renderer(camera=PerspectiveCamera(aspect=1.6, fov=90.0, position=(-0.0036000553518533707, 0.1035856381058693, …"
      ]
     },
     "metadata": {},
     "output_type": "display_data"
    },
    {
     "data": {
      "application/vnd.jupyter.widget-view+json": {
       "model_id": "9fdfde59f63c41439d089fe7c73e2236",
       "version_major": 2,
       "version_minor": 0
      },
      "text/plain": [
       "HBox(children=(Label(value='Point size:'), FloatSlider(value=0.003, max=0.03, step=3e-05), Label(value='Backgr…"
      ]
     },
     "metadata": {},
     "output_type": "display_data"
    }
   ],
   "source": [
    "plot_mesh_from_vector(decoder, opt_latent, N=128)"
   ]
  },
  {
   "cell_type": "markdown",
   "metadata": {},
   "source": [
    "## Num points = 100"
   ]
  },
  {
   "cell_type": "code",
   "execution_count": 261,
   "metadata": {},
   "outputs": [
    {
     "data": {
      "application/vnd.jupyter.widget-view+json": {
       "model_id": "",
       "version_major": 2,
       "version_minor": 0
      },
      "text/plain": [
       "HBox(children=(IntProgress(value=0, max=50), HTML(value='')))"
      ]
     },
     "metadata": {},
     "output_type": "display_data"
    },
    {
     "name": "stdout",
     "output_type": "stream",
     "text": [
      "\n"
     ]
    }
   ],
   "source": [
    "initial_latent = latent_vectors[99].clone()\n",
    "opt_latent, loss_hist = optimize_shape(decoder, initial_latent, num_points=100, num_iters=50, adjust_lr_every=10,\n",
    "                                       multiplier_func=lambda x: method4_to_another_shape(x, ref_points),\n",
    "                                       loss_func=lambda x: chd_loss(x, ref_points))"
   ]
  },
  {
   "cell_type": "code",
   "execution_count": 262,
   "metadata": {},
   "outputs": [
    {
     "data": {
      "image/png": "[encoded data removed]",
      "text/plain": [
       "<Figure size 1008x432 with 1 Axes>"
      ]
     },
     "metadata": {
      "needs_background": "light"
     },
     "output_type": "display_data"
    }
   ],
   "source": [
    "plt.figure(figsize=(14, 6))\n",
    "#plt.yscale(\"log\")\n",
    "plt.xlabel('Iteration')\n",
    "plt.ylabel('Loss')\n",
    "plt.plot(loss_hist)\n",
    "plt.show()"
   ]
  },
  {
   "cell_type": "code",
   "execution_count": 263,
   "metadata": {},
   "outputs": [
    {
     "name": "stdout",
     "output_type": "stream",
     "text": [
      "sampling takes: 5.032945\n"
     ]
    },
    {
     "data": {
      "application/vnd.jupyter.widget-view+json": {
       "model_id": "",
       "version_major": 2,
       "version_minor": 0
      },
      "text/plain": [
       "Renderer(camera=PerspectiveCamera(aspect=1.6, fov=90.0, position=(-0.014131804928183556, 0.24499652534723282, …"
      ]
     },
     "metadata": {},
     "output_type": "display_data"
    },
    {
     "data": {
      "application/vnd.jupyter.widget-view+json": {
       "model_id": "",
       "version_major": 2,
       "version_minor": 0
      },
      "text/plain": [
       "HBox(children=(Label(value='Point size:'), FloatSlider(value=0.003, max=0.03, step=3e-05), Label(value='Backgr…"
      ]
     },
     "metadata": {},
     "output_type": "display_data"
    }
   ],
   "source": [
    "plot_mesh_from_vector(decoder, opt_latent, N=128)"
   ]
  },
  {
   "cell_type": "code",
   "execution_count": null,
   "metadata": {},
   "outputs": [],
   "source": []
  }
 ],
 "metadata": {
  "kernelspec": {
   "display_name": "Python 3",
   "language": "python",
   "name": "python3"
  },
  "language_info": {
   "codemirror_mode": {
    "name": "ipython",
    "version": 3
   },
   "file_extension": ".py",
   "mimetype": "text/x-python",
   "name": "python",
   "nbconvert_exporter": "python",
   "pygments_lexer": "ipython3",
   "version": "3.7.3"
  }
 },
 "nbformat": 4,
 "nbformat_minor": 4
}
