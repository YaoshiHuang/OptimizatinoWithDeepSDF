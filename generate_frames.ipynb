{
 "cells": [
  {
   "cell_type": "code",
   "execution_count": 6,
   "metadata": {},
   "outputs": [],
   "source": [
    "import os\n",
    "from tqdm import tqdm_notebook as tqdm\n",
    "import matplotlib\n",
    "matplotlib.use('Agg')\n",
    "import matplotlib.pyplot as plt\n",
    "import matplotlib.image as mpimg\n",
    "from sklearn.neighbors import KDTree\n",
    "from mpl_toolkits.mplot3d import Axes3D, art3d\n",
    "from matplotlib.backends.backend_agg import FigureCanvasAgg as FigureCanvas\n",
    "import torch\n",
    "import torch.nn as nn\n",
    "\n",
    "import numpy as np\n",
    "\n",
    "from plyfile import PlyData, PlyElement"
   ]
  },
  {
   "cell_type": "code",
   "execution_count": 7,
   "metadata": {},
   "outputs": [],
   "source": [
    "def read_mesh(filename):\n",
    "    \n",
    "    plydata = PlyData.read(filename)\n",
    "    vertices = np.vstack((plydata['vertex'].data['x'], plydata['vertex'].data['y'], plydata['vertex'].data['z'])).T\n",
    "    vert_colors = np.vstack((plydata[\"vertex\"]['red'], \n",
    "                             plydata[\"vertex\"]['green'], \n",
    "                             plydata[\"vertex\"]['blue'], \n",
    "                             plydata[\"vertex\"]['alpha'])).T\n",
    "    tri_data = plydata['face'].data['vertex_indices']\n",
    "    faces = np.vstack(tri_data)\n",
    "    \n",
    "    face_colors = vert_colors[faces].mean(axis=1) / 255\n",
    "#     fld_tree = KDTree(vertices)\n",
    "#     distances, faces = fld_tree.query(vertices, k=3)\n",
    "    \n",
    "    return vertices, faces, face_colors\n",
    "\n",
    "\n",
    "def plot_model_3d(vertices, faces, face_colors, loss, elev, azim, filename, points=None, title=True):\n",
    "    \"\"\"\n",
    "    Visualize mesh object. \n",
    "    \"\"\"\n",
    "\n",
    "    fig = plt.figure(figsize=(15, 15))\n",
    "    ax = fig.add_subplot(111, projection='3d')\n",
    "    \n",
    "    pc = art3d.Poly3DCollection(vertices[faces],linewidths=0.1, facecolors = face_colors)\n",
    "    ax.add_collection(pc)\n",
    "    \n",
    "    if points is not None:\n",
    "        ax.scatter(points[:,0], points[:,1], points[:,2], c='red', alpha = 0.2)\n",
    "    \n",
    "    ax.set_xlim(-1.0, 1.0)\n",
    "    ax.set_ylim(-1.0, 1.0)\n",
    "    ax.set_zlim(-1.0, 1.0)\n",
    "    \n",
    "    if title:\n",
    "        ax.set_title('Objective: '+str(loss), fontdict={'fontsize': 20, 'fontweight': 'medium'})\n",
    "    ax.view_init(elev=elev, azim = azim)\n",
    "    #print(\"storing \", filename)\n",
    "    plt.savefig(filename, bbox_inches='tight')\n",
    "    plt.close()\n",
    "    \n",
    "def plot_interp(vertices, faces, elev,azim, filename):\n",
    "    \"\"\"\n",
    "    Visualize mesh object. \n",
    "    \"\"\"\n",
    "\n",
    "    fig = plt.figure(figsize=(15, 15))\n",
    "    ax = fig.add_subplot(111, projection='3d')\n",
    "    \n",
    "    pc = art3d.Poly3DCollection(vertices[faces],linewidths=0.1,edgecolor = 'k')\n",
    "    ax.add_collection(pc)\n",
    "    \n",
    "    \n",
    "    ax.set_xlim(-1.0, 1.0)\n",
    "    ax.set_ylim(-1.0, 1.0)\n",
    "    ax.set_zlim(-1.0, 1.0)\n",
    "    \n",
    "    ax.view_init(elev=elev, azim = azim)\n",
    "    #print(\"storing \", filename)\n",
    "    plt.savefig(filename, bbox_inches='tight')\n",
    "    plt.close()"
   ]
  },
  {
   "cell_type": "code",
   "execution_count": 8,
   "metadata": {},
   "outputs": [],
   "source": [
    "def process_folder(folder_name, need_continue=False, max_iters=400, env=30):\n",
    "\n",
    "    if  not os.path.exists(folder_name):\n",
    "        raise\n",
    "    else:\n",
    "        if not os.path.exists(folder_name + '/frames'):\n",
    "            os.makedirs(folder_name + '/frames')\n",
    "        if not os.path.exists(folder_name + '/report'):\n",
    "            os.makedirs(folder_name + '/report')\n",
    "            \n",
    "#     losses = np.load(folder_name +\"/loss_plot.npy\")\n",
    "#     plt.figure()\n",
    "#     #plt.yscale(\"log\")\n",
    "#     plt.xlabel('Iteration')\n",
    "#     plt.ylabel('Loss')\n",
    "#     plt.plot(losses)\n",
    "#     plt.savefig(folder_name + '/report/loss_plot.png')\n",
    "#     plt.show()\n",
    "\n",
    "#     latent = np.load(folder_name +\"/latent_dist.npy\")\n",
    "#     plt.figure()\n",
    "#     plt.xlabel('Iteration')\n",
    "#     plt.ylabel('Distance in latent space')\n",
    "#     plt.plot(latent)\n",
    "#     plt.savefig(folder_name + '/report/latent_dist.png')\n",
    "#     plt.show()\n",
    "\n",
    "#     lr = np.load(folder_name +\"/lr_plot.npy\")\n",
    "#     plt.figure()\n",
    "#     plt.xlabel('Iteration')\n",
    "#     plt.ylabel('Learning Rate')\n",
    "#     plt.plot(lr)\n",
    "#     plt.savefig(folder_name + '/report/lr_plot.png')\n",
    "#     plt.show()\n",
    "    \n",
    "#     pts = np.load(folder_name +\"/target_verts.npy\")\n",
    "#     pts = pts[torch.randperm(pts.shape[0])]\n",
    "#     pts = pts[0:5000, :]\n",
    "#     pts = pts[:,[0,2,1]]\n",
    "\n",
    "    losses = np.load(folder_name +\"/loss_plot.npy\", allow_pickle=True)\n",
    "\n",
    "    number_of_frames = len([name for name in os.listdir(folder_name + \"/meshes\") if name[-4:]=='.ply'])\n",
    "    number_of_frames = min(number_of_frames, max_iters)\n",
    "    \n",
    "    iter_from = 0\n",
    "    if need_continue:\n",
    "        iter_from = len([name for name in os.listdir(folder_name + \"/frames\") if name[-4:]=='.png'])\n",
    "    \n",
    "    for i in tqdm(range(iter_from, number_of_frames)):\n",
    "        vertices, faces, face_colors = read_mesh(folder_name +'/meshes/'+ str(i).zfill(5) +'.ply')\n",
    "        plot_model_3d(vertices[:,[0,2,1]], faces, face_colors, losses[i], env, 20, folder_name + \\\n",
    "                                                      '/frames/' + str(i).zfill(5)+'.png')\n",
    "        plot_model_3d(vertices[:,[0,2,1]], faces, face_colors, losses[i], 0, 90, folder_name + \\\n",
    "                                                      '/frames/' + str(i).zfill(5)+'z.png', title=False)\n",
    "        plot_model_3d(vertices[:,[0,2,1]], faces, face_colors, losses[i], 90, 0, folder_name + \\\n",
    "                                                      '/frames/' + str(i).zfill(5)+'y.png', title=False)"
   ]
  },
  {
   "cell_type": "code",
   "execution_count": 9,
   "metadata": {},
   "outputs": [
    {
     "data": {
      "application/vnd.jupyter.widget-view+json": {
       "model_id": "656edbd49f12445fa8d026f6da3890d1",
       "version_major": 2,
       "version_minor": 0
      },
      "text/plain": [
       "HBox(children=(IntProgress(value=0, max=26), HTML(value='')))"
      ]
     },
     "metadata": {},
     "output_type": "display_data"
    },
    {
     "name": "stdout",
     "output_type": "stream",
     "text": [
      "\n"
     ]
    }
   ],
   "source": [
    "process_folder(\"../Expirements/SavedTransforms/DeepSDF-CFD8-m3-holes/\", need_continue=False)"
   ]
  },
  {
   "cell_type": "code",
   "execution_count": null,
   "metadata": {},
   "outputs": [
    {
     "data": {
      "application/vnd.jupyter.widget-view+json": {
       "model_id": "a54cc19c39874880bd86896f6797203e",
       "version_major": 2,
       "version_minor": 0
      },
      "text/plain": [
       "HBox(children=(IntProgress(value=0, max=30), HTML(value='')))"
      ]
     },
     "metadata": {},
     "output_type": "display_data"
    }
   ],
   "source": [
    "process_folder(\"Expirements/Optimization/VertexDragNew/\", need_continue=False)"
   ]
  },
  {
   "cell_type": "code",
   "execution_count": 12,
   "metadata": {},
   "outputs": [
    {
     "data": {
      "application/vnd.jupyter.widget-view+json": {
       "model_id": "6d8de8773096412a8a8d30cb937a8bc4",
       "version_major": 2,
       "version_minor": 0
      },
      "text/plain": [
       "HBox(children=(IntProgress(value=0, max=17), HTML(value='')))"
      ]
     },
     "metadata": {},
     "output_type": "display_data"
    },
    {
     "name": "stdout",
     "output_type": "stream",
     "text": [
      "\n"
     ]
    }
   ],
   "source": [
    "process_folder(\"Expirements/Optimization/BboxNew/\", need_continue=False)"
   ]
  },
  {
   "cell_type": "code",
   "execution_count": null,
   "metadata": {},
   "outputs": [],
   "source": [
    "process_folder(\"../Expirements/SavedTransforms/DeepSDF-CFD8-m3-hard-active\", need_continue=False)"
   ]
  },
  {
   "cell_type": "code",
   "execution_count": null,
   "metadata": {},
   "outputs": [],
   "source": []
  },
  {
   "cell_type": "code",
   "execution_count": null,
   "metadata": {},
   "outputs": [],
   "source": []
  },
  {
   "cell_type": "code",
   "execution_count": null,
   "metadata": {},
   "outputs": [
    {
     "data": {
      "application/vnd.jupyter.widget-view+json": {
       "model_id": "dffd983950cf452b94739c7403153439",
       "version_major": 2,
       "version_minor": 0
      },
      "text/plain": [
       "HBox(children=(IntProgress(value=0, max=368), HTML(value='')))"
      ]
     },
     "metadata": {},
     "output_type": "display_data"
    }
   ],
   "source": [
    "process_folder(\"../Expirements/SavedTransforms/0-18_usual\", need_continue=True)"
   ]
  },
  {
   "cell_type": "code",
   "execution_count": null,
   "metadata": {},
   "outputs": [],
   "source": [
    "process_folder(\"../Expirements/SavedTransforms/0-13_usual\", need_continue=False)"
   ]
  },
  {
   "cell_type": "code",
   "execution_count": null,
   "metadata": {},
   "outputs": [],
   "source": [
    "process_folder(\"../Expirements/SavedTransforms/0-99_usual\", need_continue=False)"
   ]
  },
  {
   "cell_type": "code",
   "execution_count": null,
   "metadata": {},
   "outputs": [],
   "source": [
    "process_folder(\"../Expirements/SavedTransforms/0-18_reindex_weak\", need_continue=False)"
   ]
  },
  {
   "cell_type": "code",
   "execution_count": null,
   "metadata": {},
   "outputs": [],
   "source": [
    "process_folder(\"../Expirements/SavedTransforms/0-13_reindex_weak\", need_continue=False)"
   ]
  },
  {
   "cell_type": "code",
   "execution_count": null,
   "metadata": {},
   "outputs": [],
   "source": [
    "process_folder(\"../Expirements/SavedTransforms/0-18_reindex_strong\", need_continue=False)"
   ]
  },
  {
   "cell_type": "code",
   "execution_count": null,
   "metadata": {},
   "outputs": [],
   "source": [
    "process_folder(\"../Expirements/SavedTransforms/0-18_super_weak\", need_continue=False)"
   ]
  },
  {
   "cell_type": "code",
   "execution_count": null,
   "metadata": {},
   "outputs": [],
   "source": [
    "process_folder(\"../Expirements/SavedTransforms/0-13_reindex_weak_hp\", need_continue=False)"
   ]
  },
  {
   "cell_type": "code",
   "execution_count": null,
   "metadata": {},
   "outputs": [],
   "source": [
    "process_folder(\"../Expirements/SavedTransforms/0-18_reindex_weak_hp\", need_continue=False)"
   ]
  }
 ],
 "metadata": {
  "kernelspec": {
   "display_name": "Python 3",
   "language": "python",
   "name": "python3"
  },
  "language_info": {
   "codemirror_mode": {
    "name": "ipython",
    "version": 3
   },
   "file_extension": ".py",
   "mimetype": "text/x-python",
   "name": "python",
   "nbconvert_exporter": "python",
   "pygments_lexer": "ipython3",
   "version": "3.6.9"
  }
 },
 "nbformat": 4,
 "nbformat_minor": 4
}
