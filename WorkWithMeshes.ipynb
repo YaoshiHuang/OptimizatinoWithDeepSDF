{
 "cells": [
  {
   "cell_type": "code",
   "execution_count": 2,
   "metadata": {},
   "outputs": [],
   "source": [
    "import os\n",
    "\n",
    "import numpy as np\n",
    "import trimesh\n",
    "from tqdm import tqdm\n",
    "\n",
    "import deep_sdf\n",
    "import deep_sdf.workspace as ws\n",
    "from custom_utils import *\n",
    "\n",
    "# /cvlabdata2/home/remelli/DeepSDF/bin"
   ]
  },
  {
   "cell_type": "code",
   "execution_count": 3,
   "metadata": {},
   "outputs": [],
   "source": [
    "# root = '/cvlabdata1/home/remelli/SVR/ShapeNetCore.v2/02958343/'\n",
    "# save_dir = '/cvlabdata2/home/artem/Data/cars_refined'\n",
    "\n",
    "# objects = list()\n",
    "# for (dirpath, dirnames, filenames) in os.walk(root):\n",
    "#     objects += [os.path.join(dirpath, file) for file in filenames if file == 'isosurf.obj']"
   ]
  },
  {
   "cell_type": "code",
   "execution_count": 4,
   "metadata": {},
   "outputs": [],
   "source": [
    "# objects = ['/cvlabdata2/home/artem/DeepSDF/Expirements/OptimizationPaper/FairLoss/DeepSDFDrag/20/meshes/00000.ply,\n",
    "#            '/cvlabdata2/home/artem/Expirements/SavedTransforms/DeepSDF-CFD8-car3-lift-min/meshes/00000.ply']\n",
    "# save_dir = '/cvlabdata2/home/artem/Expirements/SavedTransforms/DeepSDF-CFD8-car3-lift-min/meshes_for_simulations'"
   ]
  },
  {
   "cell_type": "code",
   "execution_count": 5,
   "metadata": {},
   "outputs": [],
   "source": [
    "def moveMesh(path_in, path_out, no_rotation=False):\n",
    "    rotation_transform = np.array([[-1,  0,  0,  0], \n",
    "                                   [ 0,  1,  0,  0],\n",
    "                                   [ 0,  0, -1,  0],\n",
    "                                   [ 0,  0,  0,  1]], dtype=np.float)\n",
    "\n",
    "    mesh = trimesh.load(path_in)\n",
    "    mc = mesh.center_mass\n",
    "    translation_matrix = np.array([[ 1,  0,  0,  -mc[0]], \n",
    "                                   [ 0,  1,  0,  -mc[1]],\n",
    "                                   [ 0,  0,  1,  -mc[2]],\n",
    "                                   [ 0,  0,  0,  1]], dtype=np.float)\n",
    "\n",
    "    width = mesh.bounds[1][0] - mesh.bounds[0][0]\n",
    "    sf = 1 / width\n",
    "    scaling_matrix = np.array([[sf,  0,  0,  0], \n",
    "                               [ 0, sf,  0,  0],\n",
    "                               [ 0,  0, sf,  0],\n",
    "                               [ 0,  0,  0,  1]], dtype=np.float)\n",
    "\n",
    "    if no_rotation:\n",
    "        final_matrix = np.matmul(scaling_matrix, translation_matrix)\n",
    "    else:\n",
    "        final_matrix =  np.matmul(np.matmul(rotation_transform, translation_matrix), scaling_matrix)\n",
    "    mesh.apply_transform(final_matrix)\n",
    "\n",
    "    #np.save(os.path.join( os.path.join(save_dir, 'transforms'), car_name + '.npy'), final_matrix)\n",
    "    #os.path.join( os.path.join(save_dir, 'cars'), car_name + '_input.stl')\n",
    "    mesh.export(path_out)"
   ]
  },
  {
   "cell_type": "code",
   "execution_count": 14,
   "metadata": {},
   "outputs": [],
   "source": [
    "moveMesh('/cvlabdata2/home/artem/DeepSDF/Expirements/OptimizationPaper/AfterMeeting/UmetamiDrag2/0535/meshes/00029.ply',\n",
    "         '/cvlabdata2/home/artem/DeepSDF/Expirements/Simulations/TruckHole/inputs/umetami_29_input.stl', \n",
    "         no_rotation=True)"
   ]
  },
  {
   "cell_type": "code",
   "execution_count": null,
   "metadata": {},
   "outputs": [],
   "source": []
  },
  {
   "cell_type": "code",
   "execution_count": null,
   "metadata": {},
   "outputs": [],
   "source": []
  },
  {
   "cell_type": "code",
   "execution_count": null,
   "metadata": {},
   "outputs": [],
   "source": []
  },
  {
   "cell_type": "code",
   "execution_count": null,
   "metadata": {},
   "outputs": [],
   "source": []
  },
  {
   "cell_type": "code",
   "execution_count": null,
   "metadata": {},
   "outputs": [],
   "source": []
  },
  {
   "cell_type": "code",
   "execution_count": null,
   "metadata": {},
   "outputs": [],
   "source": []
  },
  {
   "cell_type": "code",
   "execution_count": null,
   "metadata": {},
   "outputs": [],
   "source": []
  },
  {
   "cell_type": "code",
   "execution_count": null,
   "metadata": {},
   "outputs": [],
   "source": []
  },
  {
   "cell_type": "code",
   "execution_count": null,
   "metadata": {},
   "outputs": [],
   "source": []
  },
  {
   "cell_type": "code",
   "execution_count": null,
   "metadata": {},
   "outputs": [],
   "source": [
    "reference_mesh_path = '/cvlabsrc1/cvlab/dataset_shapenet/code/foam_npy/stl/0005.stl'\n",
    "reference_mesh = trimesh.load(reference_mesh_path)"
   ]
  },
  {
   "cell_type": "code",
   "execution_count": null,
   "metadata": {},
   "outputs": [],
   "source": [
    "reference_mesh.bounds"
   ]
  },
  {
   "cell_type": "code",
   "execution_count": null,
   "metadata": {},
   "outputs": [],
   "source": []
  },
  {
   "cell_type": "code",
   "execution_count": null,
   "metadata": {},
   "outputs": [],
   "source": []
  },
  {
   "cell_type": "code",
   "execution_count": null,
   "metadata": {},
   "outputs": [],
   "source": []
  },
  {
   "cell_type": "code",
   "execution_count": null,
   "metadata": {},
   "outputs": [],
   "source": []
  },
  {
   "cell_type": "code",
   "execution_count": null,
   "metadata": {},
   "outputs": [],
   "source": [
    "import json\n",
    "import os\n",
    "import numpy as np"
   ]
  },
  {
   "cell_type": "code",
   "execution_count": null,
   "metadata": {},
   "outputs": [],
   "source": [
    "files = list(filter(lambda x: x[-4:] == \".npz\",  \n",
    "                    os.listdir(\"data/SdfSamples/ShapeNetV2/02958343\")))[:1500]\n",
    "files = list(map(lambda x: x[:-4], files))\n",
    "np.random.shuffle(files)"
   ]
  },
  {
   "cell_type": "code",
   "execution_count": null,
   "metadata": {},
   "outputs": [],
   "source": [
    "train_set = {\"ShapeNetV2\" : {\"02958343\" : files[:-64]} }\n",
    "test_set = {\"ShapeNetV2\" : {\"02958343\" : files[-64:]} }"
   ]
  },
  {
   "cell_type": "code",
   "execution_count": null,
   "metadata": {},
   "outputs": [],
   "source": [
    "with open(\"examples/splits/sv2_cars_test.json\", 'w') as file: \n",
    "    json.dump(test_set, file)\n",
    "with open(\"examples/splits/sv2_cars_train.json\", 'w') as file: \n",
    "    json.dump(train_set, file)"
   ]
  },
  {
   "cell_type": "code",
   "execution_count": null,
   "metadata": {},
   "outputs": [],
   "source": []
  },
  {
   "cell_type": "markdown",
   "metadata": {},
   "source": [
    "## Save DeepSDF learned shapes"
   ]
  },
  {
   "cell_type": "code",
   "execution_count": 9,
   "metadata": {},
   "outputs": [
    {
     "name": "stdout",
     "output_type": "stream",
     "text": [
      "1205\n"
     ]
    }
   ],
   "source": [
    "experiment_directory = \"/cvlabdata2/home/artem/DeepSDF/examples/cars_cleared/\"\n",
    "checkpoint = \"latest\"\n",
    "decoder = load_model(experiment_directory, checkpoint)\n",
    "\n",
    "latent_vectors = ws.load_latent_vectors(experiment_directory, checkpoint)\n",
    "print(len(latent_vectors))"
   ]
  },
  {
   "cell_type": "code",
   "execution_count": 12,
   "metadata": {},
   "outputs": [],
   "source": [
    "save_dir = '/cvlabdata2/home/artem/Data/cars_remeshed_dsdf'\n",
    "\n",
    "rotation_transform = np.array([[-1,  0,  0,  0], \n",
    "                               [ 0,  1,  0,  0],\n",
    "                               [ 0,  0, -1,  0],\n",
    "                               [ 0,  0,  0,  1]], dtype=np.float)\n",
    "\n",
    "for idx, latent in enumerate(latent_vectors):\n",
    "    with torch.no_grad():\n",
    "        ply_mesh = create_mesh( decoder,\n",
    "                                latent,\n",
    "                                N=256,\n",
    "                                max_batch=int(2 ** 18),\n",
    "                                offset=None,\n",
    "                                scale=None)\n",
    "    mesh = trimesh.Trimesh(vertices = np.hstack(( ply_mesh['vertex']['x'][:, None], \n",
    "                                                  ply_mesh['vertex']['y'][:, None], \n",
    "                                                  ply_mesh['vertex']['z'][:, None])),\n",
    "                           faces = ply_mesh['face']['vertex_indices']\n",
    "                          )\n",
    "\n",
    "    car_name = str(idx)\n",
    "    mc = mesh.center_mass\n",
    "    translation_matrix = np.array([[ 1,  0,  0,  -mc[0]], \n",
    "                                   [ 0,  1,  0,  -mc[1]],\n",
    "                                   [ 0,  0,  1,  -mc[2]],\n",
    "                                   [ 0,  0,  0,  1]], dtype=np.float)\n",
    "    \n",
    "    width = mesh.bounds[1][0] - mesh.bounds[0][0]\n",
    "    sf = 1 / width\n",
    "    scaling_matrix = np.array([[sf,  0,  0,  0], \n",
    "                               [ 0, sf,  0,  0],\n",
    "                               [ 0,  0, sf,  0],\n",
    "                               [ 0,  0,  0,  1]], dtype=np.float)\n",
    "\n",
    "    final_matrix = np.matmul(np.matmul(rotation_transform, translation_matrix), scaling_matrix)\n",
    "    mesh.apply_transform(final_matrix)\n",
    "\n",
    "    np.save(os.path.join( os.path.join(save_dir, 'transforms'), car_name + '.npy'), final_matrix)\n",
    "    mesh.export(os.path.join( os.path.join(save_dir, 'inputs'), car_name + '_input.stl') )"
   ]
  },
  {
   "cell_type": "code",
   "execution_count": null,
   "metadata": {},
   "outputs": [],
   "source": []
  },
  {
   "cell_type": "code",
   "execution_count": null,
   "metadata": {},
   "outputs": [],
   "source": []
  }
 ],
 "metadata": {
  "kernelspec": {
   "display_name": "Python 3",
   "language": "python",
   "name": "python3"
  },
  "language_info": {
   "codemirror_mode": {
    "name": "ipython",
    "version": 3
   },
   "file_extension": ".py",
   "mimetype": "text/x-python",
   "name": "python",
   "nbconvert_exporter": "python",
   "pygments_lexer": "ipython3",
   "version": "3.6.9"
  }
 },
 "nbformat": 4,
 "nbformat_minor": 4
}
