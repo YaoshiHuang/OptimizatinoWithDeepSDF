{
 "cells": [
  {
   "cell_type": "code",
   "execution_count": 5,
   "metadata": {},
   "outputs": [],
   "source": [
    "import os\n",
    "\n",
    "import numpy as np\n",
    "import trimesh\n",
    "from tqdm import tqdm\n",
    "\n",
    "# /cvlabdata2/home/remelli/DeepSDF/bin"
   ]
  },
  {
   "cell_type": "code",
   "execution_count": 50,
   "metadata": {},
   "outputs": [
    {
     "name": "stderr",
     "output_type": "stream",
     "text": [
      "\n",
      "\n",
      "\n",
      "835it [00:11, 385.69it/s]\u001b[A\u001b[A\u001b[A\n",
      "\n",
      "566it [00:16, 232.17it/s]\u001b[A\u001b[A"
     ]
    }
   ],
   "source": [
    "root = '/cvlabdata1/home/remelli/SVR/ShapeNetCore.v2/02958343/'\n",
    "save_dir = '/cvlabdata2/home/artem/Data/cars_refined'\n",
    "\n",
    "objects = list()\n",
    "for (dirpath, dirnames, filenames) in os.walk(root):\n",
    "    objects += [os.path.join(dirpath, file) for file in filenames if file == 'isosurf.obj']"
   ]
  },
  {
   "cell_type": "code",
   "execution_count": null,
   "metadata": {},
   "outputs": [],
   "source": []
  },
  {
   "cell_type": "code",
   "execution_count": 6,
   "metadata": {},
   "outputs": [],
   "source": [
    "objects = ['/cvlabdata2/home/artem/Expirements/SavedTransforms/DeepSDF-CFD8-car3-lift-min/meshes/00010.ply',\n",
    "           '/cvlabdata2/home/artem/Expirements/SavedTransforms/DeepSDF-CFD8-car3-lift-min/meshes/00000.ply']\n",
    "save_dir = '/cvlabdata2/home/artem/Expirements/SavedTransforms/DeepSDF-CFD8-car3-lift-min/meshes_for_simulations'"
   ]
  },
  {
   "cell_type": "code",
   "execution_count": 12,
   "metadata": {},
   "outputs": [],
   "source": [
    "rotation_transform = np.array([[-1,  0,  0,  0], \n",
    "                               [ 0,  1,  0,  0],\n",
    "                               [ 0,  0, -1,  0],\n",
    "                               [ 0,  0,  0,  1]], dtype=np.float)\n",
    "\n",
    "for obj in objects:\n",
    "    mesh = trimesh.load(obj)\n",
    "    car_name = obj.split('/')[-1][:-4]\n",
    "    mc = mesh.center_mass\n",
    "    translation_matrix = np.array([[ 1,  0,  0,  -mc[0]], \n",
    "                                   [ 0,  1,  0,  -mc[1]],\n",
    "                                   [ 0,  0,  1,  -mc[2]],\n",
    "                                   [ 0,  0,  0,  1]], dtype=np.float)\n",
    "    \n",
    "    width = mesh.bounds[1][0] - mesh.bounds[0][0]\n",
    "    sf = 1 / width\n",
    "    scaling_matrix = np.array([[sf,  0,  0,  0], \n",
    "                               [ 0, sf,  0,  0],\n",
    "                               [ 0,  0, sf,  0],\n",
    "                               [ 0,  0,  0,  1]], dtype=np.float)\n",
    "\n",
    "    final_matrix = np.matmul(np.matmul(rotation_transform, translation_matrix), scaling_matrix)\n",
    "    mesh.apply_transform(final_matrix)\n",
    "\n",
    "    np.save(os.path.join( os.path.join(save_dir, 'transforms'), car_name + '.npy'), final_matrix)\n",
    "    mesh.export(os.path.join( os.path.join(save_dir, 'cars'), car_name + '.stl') )"
   ]
  },
  {
   "cell_type": "code",
   "execution_count": 20,
   "metadata": {},
   "outputs": [],
   "source": [
    "reference_mesh_path = '/cvlabsrc1/cvlab/dataset_shapenet/code/foam_npy/stl/0005.stl'\n",
    "reference_mesh = trimesh.load(reference_mesh_path)"
   ]
  },
  {
   "cell_type": "code",
   "execution_count": 27,
   "metadata": {},
   "outputs": [
    {
     "data": {
      "text/plain": [
       "array([[-0.5232693 , -0.12063155, -0.21424496],\n",
       "       [ 0.47672951,  0.14396769,  0.21383004]])"
      ]
     },
     "execution_count": 27,
     "metadata": {},
     "output_type": "execute_result"
    }
   ],
   "source": [
    "reference_mesh.bounds"
   ]
  },
  {
   "cell_type": "code",
   "execution_count": null,
   "metadata": {},
   "outputs": [],
   "source": []
  },
  {
   "cell_type": "code",
   "execution_count": null,
   "metadata": {},
   "outputs": [],
   "source": []
  },
  {
   "cell_type": "code",
   "execution_count": null,
   "metadata": {},
   "outputs": [],
   "source": []
  },
  {
   "cell_type": "code",
   "execution_count": null,
   "metadata": {},
   "outputs": [],
   "source": []
  },
  {
   "cell_type": "code",
   "execution_count": 38,
   "metadata": {},
   "outputs": [],
   "source": [
    "import json\n",
    "import os\n",
    "import numpy as np"
   ]
  },
  {
   "cell_type": "code",
   "execution_count": 59,
   "metadata": {},
   "outputs": [],
   "source": [
    "files = list(filter(lambda x: x[-4:] == \".npz\",  \n",
    "                    os.listdir(\"data/SdfSamples/ShapeNetV2/02958343\")))[:1500]\n",
    "files = list(map(lambda x: x[:-4], files))\n",
    "np.random.shuffle(files)"
   ]
  },
  {
   "cell_type": "code",
   "execution_count": 60,
   "metadata": {},
   "outputs": [],
   "source": [
    "train_set = {\"ShapeNetV2\" : {\"02958343\" : files[:-64]} }\n",
    "test_set = {\"ShapeNetV2\" : {\"02958343\" : files[-64:]} }"
   ]
  },
  {
   "cell_type": "code",
   "execution_count": 61,
   "metadata": {},
   "outputs": [],
   "source": [
    "with open(\"examples/splits/sv2_cars_test.json\", 'w') as file: \n",
    "    json.dump(test_set, file)\n",
    "with open(\"examples/splits/sv2_cars_train.json\", 'w') as file: \n",
    "    json.dump(train_set, file)"
   ]
  },
  {
   "cell_type": "code",
   "execution_count": null,
   "metadata": {},
   "outputs": [],
   "source": []
  }
 ],
 "metadata": {
  "kernelspec": {
   "display_name": "Python 3",
   "language": "python",
   "name": "python3"
  },
  "language_info": {
   "codemirror_mode": {
    "name": "ipython",
    "version": 3
   },
   "file_extension": ".py",
   "mimetype": "text/x-python",
   "name": "python",
   "nbconvert_exporter": "python",
   "pygments_lexer": "ipython3",
   "version": "3.6.9"
  }
 },
 "nbformat": 4,
 "nbformat_minor": 4
}
