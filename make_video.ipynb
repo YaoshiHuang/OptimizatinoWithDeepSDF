{
 "cells": [
  {
   "cell_type": "code",
   "execution_count": 21,
   "metadata": {},
   "outputs": [],
   "source": [
    "import cv2\n",
    "import numpy as np\n",
    "\n",
    "from tqdm import tqdm_notebook as tqdm\n",
    "import matplotlib.pyplot as plt\n",
    "import matplotlib.image as mpimg\n",
    "import scipy.ndimage\n",
    "import numpy as np\n",
    "import os\n",
    "from skimage.transform import resize"
   ]
  },
  {
   "cell_type": "code",
   "execution_count": 30,
   "metadata": {},
   "outputs": [
    {
     "name": "stdout",
     "output_type": "stream",
     "text": [
      "27\n"
     ]
    }
   ],
   "source": [
    "folder_path = \"../Expirements/SavedTransforms/0-99_usual\"\n",
    "frames_path = os.path.join(folder_path, 'frames')\n",
    "file_list = []\n",
    "\n",
    "for file in os.listdir(frames_path):\n",
    "    if file.endswith(\".png\"):\n",
    "        file_list.append(os.path.join(frames_path, file))\n",
    "file_list.sort()\n",
    "\n",
    "print(len(file_list))\n"
   ]
  },
  {
   "cell_type": "code",
   "execution_count": 31,
   "metadata": {},
   "outputs": [
    {
     "data": {
      "application/vnd.jupyter.widget-view+json": {
       "model_id": "d6951a86581d48beb5612db9d2feff42",
       "version_major": 2,
       "version_minor": 0
      },
      "text/plain": [
       "HBox(children=(IntProgress(value=0, max=27), HTML(value='')))"
      ]
     },
     "metadata": {},
     "output_type": "display_data"
    },
    {
     "name": "stdout",
     "output_type": "stream",
     "text": [
      "\n"
     ]
    }
   ],
   "source": [
    "T = len(file_list)\n",
    "\n",
    "crops = []\n",
    "for idx in tqdm(range(T)):\n",
    "    crops.append(255.0*mpimg.imread(file_list[idx])[:,:,:3])"
   ]
  },
  {
   "cell_type": "code",
   "execution_count": 32,
   "metadata": {},
   "outputs": [],
   "source": [
    "writer = cv2.VideoWriter(folder_path + '/report/optimization.avi', cv2.VideoWriter_fourcc(*'MJPG'), 5, (851, 829), True)\n",
    "for i in range(len(crops)):\n",
    "    #x = np.random.randint(255, size=(829, 851, 3)).astype('uint8')\n",
    "    x = crops[i][:,:,::-1].astype('uint8')\n",
    "    writer.write(x)\n",
    "writer.release()"
   ]
  },
  {
   "cell_type": "code",
   "execution_count": null,
   "metadata": {},
   "outputs": [],
   "source": []
  }
 ],
 "metadata": {
  "kernelspec": {
   "display_name": "Python 3",
   "language": "python",
   "name": "python3"
  },
  "language_info": {
   "codemirror_mode": {
    "name": "ipython",
    "version": 3
   },
   "file_extension": ".py",
   "mimetype": "text/x-python",
   "name": "python",
   "nbconvert_exporter": "python",
   "pygments_lexer": "ipython3",
   "version": "3.7.3"
  }
 },
 "nbformat": 4,
 "nbformat_minor": 4
}
