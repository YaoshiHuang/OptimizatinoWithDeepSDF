{
 "cells": [
  {
   "cell_type": "code",
   "execution_count": 14,
   "metadata": {},
   "outputs": [],
   "source": [
    "import cv2\n",
    "import numpy as np\n",
    "\n",
    "import sys\n",
    "import io\n",
    "import traceback\n",
    "from tqdm import tqdm_notebook as tqdm\n",
    "\n",
    "import matplotlib\n",
    "matplotlib.use('Agg')\n",
    "import matplotlib.pyplot as plt\n",
    "import matplotlib.image as mpimg\n",
    "%matplotlib inline\n",
    "\n",
    "import scipy.ndimage\n",
    "import numpy as np\n",
    "import os\n",
    "from skimage.transform import resize"
   ]
  },
  {
   "cell_type": "code",
   "execution_count": 2,
   "metadata": {},
   "outputs": [],
   "source": [
    "def get_img_from_fig(fig, dpi=180, output_height=829):\n",
    "    buf = io.BytesIO()\n",
    "    fig.savefig(buf, format=\"png\", dpi=180)\n",
    "    buf.seek(0)\n",
    "    img_arr = np.frombuffer(buf.getvalue(), dtype=np.uint8)\n",
    "    buf.close()\n",
    "    img = cv2.imdecode(img_arr, 1)\n",
    "    img = cv2.cvtColor(img, cv2.COLOR_BGR2RGB)\n",
    "    \n",
    "    width = int(img.shape[1] * output_height / img.shape[0])\n",
    "    dim = (width, output_height)\n",
    "    img = cv2.resize(img, dim, interpolation = cv2.INTER_AREA)\n",
    "    \n",
    "    return img\n",
    "\n",
    "def get_plot_as_fig(idx, file_path, y_axis_name=\"\"):\n",
    "    data = np.load(file_path, allow_pickle=True)\n",
    "    fig = plt.figure()\n",
    "    tmp = plt.xlabel('Iteration')\n",
    "    tmp = plt.ylabel(y_axis_name)\n",
    "    #tmp = plt.xlim(0, len(data))\n",
    "    tmp = plt.plot(data[:idx])\n",
    "    plt.close()\n",
    "    \n",
    "    return get_img_from_fig(fig)\n",
    "\n",
    "def extend_by_plots(img, idx, folder_name, to_height, filename):\n",
    "    \n",
    "    loss_plot   = get_plot_as_fig(idx, folder_name + \"/loss_plot.npy\", 'Loss')\n",
    "    #latent_plot = get_plot_as_fig(idx, folder_name + \"/latent_dist.npy\", 'Distance in latent space')\n",
    "    lr_plot     = get_plot_as_fig(idx, folder_name + \"/lr_plot.npy\", 'Latent Distance')\n",
    "    \n",
    "    z_img = cv2.cvtColor(cv2.imread( filename[:-4] + 'z' +  filename[-4:] ), cv2.COLOR_BGR2RGB)\n",
    "    y_img = cv2.cvtColor(cv2.imread( filename[:-4] + 'y' +  filename[-4:] ), cv2.COLOR_BGR2RGB)\n",
    "    \n",
    "    dim = (loss_plot.shape[1], loss_plot.shape[0])\n",
    "    z_img = cv2.resize(z_img, dim, interpolation = cv2.INTER_AREA)\n",
    "    y_img = cv2.resize(y_img, dim, interpolation = cv2.INTER_AREA)\n",
    "    \n",
    "    #top_row =  np.concatenate((loss_plot, latent_plot), axis=1)\n",
    "    top_row =  np.concatenate(( y_img, loss_plot ), axis=1)\n",
    "    bot_row =  np.concatenate(( z_img, lr_plot) , axis=1)\n",
    "\n",
    "    rates_frame = np.concatenate((top_row, bot_row), axis=0)\n",
    "    \n",
    "    width = 1250\n",
    "    dim = (width, to_height)\n",
    "    rates_frame = cv2.resize(rates_frame, dim, interpolation = cv2.INTER_AREA)\n",
    "\n",
    "    final_frame = np.concatenate((255 * img, rates_frame), axis=1)\n",
    "    \n",
    "    return final_frame"
   ]
  },
  {
   "cell_type": "code",
   "execution_count": 3,
   "metadata": {},
   "outputs": [],
   "source": [
    "def generate_video(folder_path, output='/report/optimization.avi', with_plots=False, height=1175, flip=True):\n",
    "    try:\n",
    "        frames_path = os.path.join(folder_path, 'frames')\n",
    "        file_list = []\n",
    "\n",
    "        for file in os.listdir(frames_path):\n",
    "            if file.endswith(\".png\") and file[-5] not in ['z', 'y']:\n",
    "                file_list.append(os.path.join(frames_path, file))\n",
    "        file_list.sort()\n",
    "\n",
    "\n",
    "        T = len(file_list)\n",
    "        crops = []\n",
    "        for idx in tqdm(range(T)):\n",
    "            img = mpimg.imread(file_list[idx])[:,:,:3]\n",
    "            if flip:\n",
    "                img = np.fliplr(img)\n",
    "            if with_plots:\n",
    "                crops.append(extend_by_plots( img, \n",
    "                                              idx, folder_path, height, file_list[idx]))\n",
    "            else:\n",
    "                crops.append(255.0 * img)\n",
    "    \n",
    "    except KeyboardInterrupt:\n",
    "        print(\"Paused\")\n",
    "\n",
    "    finally:\n",
    "        w, h, _ = crops[-1].shape\n",
    "        output_dim = (h, w)\n",
    "\n",
    "        writer = cv2.VideoWriter(folder_path + '/report/optimization.avi', \n",
    "                                 cv2.VideoWriter_fourcc(*'MJPG'), 2, output_dim, True)\n",
    "        for i in range(len(crops)):\n",
    "            #x = np.random.randint(255, size=(829, 851, 3)).astype('uint8')\n",
    "            x = crops[i][:,:,::-1].astype('uint8')\n",
    "            writer.write(x)\n",
    "        writer.release()\n",
    "        \n",
    "        print(\"Saved\")"
   ]
  },
  {
   "cell_type": "code",
   "execution_count": 29,
   "metadata": {},
   "outputs": [
    {
     "data": {
      "application/vnd.jupyter.widget-view+json": {
       "model_id": "c5ef139909b44d6e87e829f4ac8a18e3",
       "version_major": 2,
       "version_minor": 0
      },
      "text/plain": [
       "HBox(children=(IntProgress(value=0, max=43), HTML(value='')))"
      ]
     },
     "metadata": {},
     "output_type": "display_data"
    },
    {
     "name": "stdout",
     "output_type": "stream",
     "text": [
      "Paused\n",
      "Saved\n"
     ]
    }
   ],
   "source": [
    "generate_video(folder_path = \"../Expirements/SavedTransforms/DeepSDF-CFD8-m3-lift-drag/\", with_plots=True)"
   ]
  },
  {
   "cell_type": "markdown",
   "metadata": {},
   "source": [
    "# Generate video supplementary layout"
   ]
  },
  {
   "cell_type": "code",
   "execution_count": 4,
   "metadata": {},
   "outputs": [],
   "source": [
    "def extend_by_plots_supp(img, idx, folder_name, to_height, filename, flip=False):\n",
    "    \n",
    "    loss_plot   = get_plot_as_fig(idx, folder_name + \"/loss_plot.npy\", 'Loss')\n",
    "    #latent_plot = get_plot_as_fig(idx, folder_name + \"/latent_dist.npy\", 'Distance in latent space')\n",
    "    #lr_plot     = get_plot_as_fig(idx, folder_name + \"/lr_plot.npy\", 'Latent Distance')\n",
    "\n",
    "    z_img = cv2.cvtColor(cv2.imread( filename[:-8] + 'perx' +  filename[-4:] ), cv2.COLOR_BGR2RGB)\n",
    "    x_img = cv2.cvtColor(cv2.imread( filename[:-8] + 'perz' +  filename[-4:] ), cv2.COLOR_BGR2RGB)\n",
    "    y_img = cv2.cvtColor(cv2.imread( filename[:-8] + 'pery' +  filename[-4:] ), cv2.COLOR_BGR2RGB)\n",
    "    \n",
    "    if True:\n",
    "        z_img = cv2.flip(z_img, 1)\n",
    "        y_img = cv2.flip(y_img, 1)\n",
    "        x_img = cv2.flip(x_img, 1)\n",
    "    \n",
    "    \n",
    "    dim = (loss_plot.shape[1], loss_plot.shape[0])\n",
    "\n",
    "    x_img = cv2.resize(x_img, dim, interpolation = cv2.INTER_AREA)\n",
    "    z_img = cv2.resize(z_img, dim, interpolation = cv2.INTER_AREA)\n",
    "    y_img = cv2.resize(y_img, dim, interpolation = cv2.INTER_AREA)\n",
    "    \n",
    "    #top_row =  np.concatenate((loss_plot, latent_plot), axis=1)\n",
    "#     top_row =  np.concatenate(( y_img, loss_plot ), axis=1)\n",
    "#     bot_row =  np.concatenate(( z_img, lr_plot) , axis=1)\n",
    "    top_row = y_img\n",
    "    bot_row = z_img\n",
    "\n",
    "    rates_frame = np.concatenate((x_img, top_row, bot_row), axis=0)\n",
    "    \n",
    "    width = 450\n",
    "    dim = (width, to_height)\n",
    "    rates_frame = cv2.resize(rates_frame, dim, interpolation = cv2.INTER_AREA)\n",
    "\n",
    "    final_frame = np.concatenate((255 * img, rates_frame), axis=1)\n",
    "    \n",
    "    return final_frame\n",
    "\n",
    "\n",
    "def generate_video_supp(folder_path, name='optimization', flip=True, frame_rate=8,\n",
    "                        output='/report/optimization.avi', with_plots=False, height=1200, proj='l'):\n",
    "        frames_path = os.path.join(folder_path, 'frames')\n",
    "        file_list = []\n",
    "\n",
    "        for file in os.listdir(frames_path):\n",
    "            if file.endswith(\".png\") and file[-5] in [proj]:\n",
    "                file_list.append(os.path.join(frames_path, file))\n",
    "        file_list.sort()\n",
    "\n",
    "\n",
    "        T = len(file_list)\n",
    "        crops = []\n",
    "        for idx in tqdm(range(T)):\n",
    "            img = mpimg.imread(file_list[idx])[:,:,:3]\n",
    "            if flip:\n",
    "                img = np.fliplr(img)\n",
    "            if with_plots:\n",
    "                crops.append(extend_by_plots_supp( img, idx, folder_path, height, file_list[idx], flip))\n",
    "            else:\n",
    "                crops.append(255.0 * img)\n",
    "    \n",
    "  \n",
    "        w, h, _ = crops[-1].shape\n",
    "        output_dim = (h, w)\n",
    "\n",
    "        out_dir = os.path.join(folder_path, 'videos')\n",
    "        if not os.path.exists(out_dir):\n",
    "            os.mkdir(out_dir)\n",
    "        out_path = os.path.join(out_dir, name + '.avi')\n",
    "        \n",
    "        writer = cv2.VideoWriter(out_path, \n",
    "                                 cv2.VideoWriter_fourcc(*'MJPG'), frame_rate, output_dim, True)\n",
    "        for i in range(len(crops)):\n",
    "            #x = np.random.randint(255, size=(829, 851, 3)).astype('uint8')\n",
    "            x = crops[i][:,:,::-1].astype('uint8')\n",
    "            writer.write(x)\n",
    "        writer.release()\n",
    "        \n",
    "        print(\"Saved to \", out_path)"
   ]
  },
  {
   "cell_type": "code",
   "execution_count": 5,
   "metadata": {},
   "outputs": [
    {
     "data": {
      "application/vnd.jupyter.widget-view+json": {
       "model_id": "1bb3acd3f7ad4872a8d8ca2eade32ba8",
       "version_major": 2,
       "version_minor": 0
      },
      "text/plain": [
       "HBox(children=(IntProgress(value=0, max=40), HTML(value='')))"
      ]
     },
     "metadata": {},
     "output_type": "display_data"
    },
    {
     "name": "stdout",
     "output_type": "stream",
     "text": [
      "\n",
      "Saved to  Expirements/OptimizationPaper/AfterMeeting/DeepSDFDrag/61/videos/angl_view_extended.avi\n"
     ]
    }
   ],
   "source": [
    "# for idx in [61]:\n",
    "#     generate_video_supp(\"Expirements/OptimizationPaper/AfterMeeting/DeepSDFDrag/%d/\" %idx, \n",
    "#                         flip=False, name='angl_view_extended', with_plots=True)"
   ]
  },
  {
   "cell_type": "code",
   "execution_count": 8,
   "metadata": {},
   "outputs": [
    {
     "data": {
      "application/vnd.jupyter.widget-view+json": {
       "model_id": "b42ce4f8ce9349aa8767adbd62c35783",
       "version_major": 2,
       "version_minor": 0
      },
      "text/plain": [
       "HBox(children=(IntProgress(value=0, max=30), HTML(value='')))"
      ]
     },
     "metadata": {},
     "output_type": "display_data"
    },
    {
     "name": "stdout",
     "output_type": "stream",
     "text": [
      "\n",
      "Saved to  Expirements/OptimizationPaper/AfterMeeting/UmetamiDrag2/0535/videos/side_view.avi\n"
     ]
    }
   ],
   "source": [
    "for idx in [535]:\n",
    "    generate_video_supp(\"Expirements/OptimizationPaper/AfterMeeting/UmetamiDrag2/%04d/\" %idx, \n",
    "                        flip=True, name='side_view', with_plots=False, proj='z')"
   ]
  },
  {
   "cell_type": "code",
   "execution_count": null,
   "metadata": {},
   "outputs": [],
   "source": []
  },
  {
   "cell_type": "code",
   "execution_count": null,
   "metadata": {},
   "outputs": [],
   "source": []
  },
  {
   "cell_type": "code",
   "execution_count": null,
   "metadata": {},
   "outputs": [],
   "source": []
  },
  {
   "cell_type": "code",
   "execution_count": 97,
   "metadata": {},
   "outputs": [
    {
     "data": {
      "image/png": "[encoded data removed]",
      "text/plain": [
       "<Figure size 432x288 with 1 Axes>"
      ]
     },
     "metadata": {
      "needs_background": "light"
     },
     "output_type": "display_data"
    }
   ],
   "source": [
    "\n",
    "plt.plot(ld)\n",
    "plt.savefig('../Expirements/SavedTransforms/0-13_reindex_weak_hp/report/latent_dist_2.png')\n",
    "plt.show()"
   ]
  },
  {
   "cell_type": "code",
   "execution_count": null,
   "metadata": {},
   "outputs": [],
   "source": []
  },
  {
   "cell_type": "code",
   "execution_count": null,
   "metadata": {},
   "outputs": [],
   "source": []
  },
  {
   "cell_type": "markdown",
   "metadata": {},
   "source": [
    "## Plots"
   ]
  },
  {
   "cell_type": "code",
   "execution_count": 156,
   "metadata": {},
   "outputs": [
    {
     "data": {
      "image/png": "[encoded data removed]",
      "text/plain": [
       "<Figure size 432x288 with 1 Axes>"
      ]
     },
     "metadata": {
      "needs_background": "light"
     },
     "output_type": "display_data"
    }
   ],
   "source": [
    "import math\n",
    "import numpy as np\n",
    "import matplotlib.pyplot as plt\n",
    "\n",
    "def sigmoid(x):\n",
    "    a = []\n",
    "    for item in x:\n",
    "        a.append(1/(1+math.exp(-item)))\n",
    "    return a\n",
    "\n",
    "\n",
    "x = np.array([c / 1000 for c in range(0, 1000)])\n",
    "y = 1 / (1 - x)\n",
    "\n",
    "fig = plt.figure()\n",
    "ax = fig.add_subplot(1, 1, 1)\n",
    "\n",
    "# Move left y-axis and bottim x-axis to centre, passing through (0,0)\n",
    "#ax.spines['left'].set_position('center')\n",
    "ax.spines['bottom'].set_position('center')\n",
    "\n",
    "# Eliminate upper and right axes\n",
    "ax.spines['right'].set_color('none')\n",
    "ax.spines['top'].set_color('none')\n",
    "\n",
    "# Show ticks in the left and lower axes only\n",
    "ax.xaxis.set_ticks_position('bottom')\n",
    "ax.yaxis.set_ticks_position('left')\n",
    "\n",
    "plt.plot(x,y, color='grey', linewidth=3)\n",
    "plt.yticks([])  \n",
    "plt.ylim((-0, 50))\n",
    "plt.savefig(\"Expirements/Visualizations/Paper/sdfnondiff.pdf\")\n",
    "plt.show()"
   ]
  },
  {
   "cell_type": "code",
   "execution_count": null,
   "metadata": {},
   "outputs": [],
   "source": []
  }
 ],
 "metadata": {
  "kernelspec": {
   "display_name": "Python 3",
   "language": "python",
   "name": "python3"
  },
  "language_info": {
   "codemirror_mode": {
    "name": "ipython",
    "version": 3
   },
   "file_extension": ".py",
   "mimetype": "text/x-python",
   "name": "python",
   "nbconvert_exporter": "python",
   "pygments_lexer": "ipython3",
   "version": "3.6.9"
  }
 },
 "nbformat": 4,
 "nbformat_minor": 4
}
