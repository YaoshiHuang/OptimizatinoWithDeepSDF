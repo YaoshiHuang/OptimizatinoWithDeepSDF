{
 "cells": [
  {
   "cell_type": "code",
   "execution_count": 2,
   "metadata": {},
   "outputs": [],
   "source": [
    "import cv2\n",
    "import numpy as np\n",
    "\n",
    "import sys\n",
    "import io\n",
    "import traceback\n",
    "from tqdm import tqdm_notebook as tqdm\n",
    "\n",
    "import matplotlib\n",
    "matplotlib.use('Agg')\n",
    "import matplotlib.pyplot as plt\n",
    "import matplotlib.image as mpimg\n",
    "\n",
    "import scipy.ndimage\n",
    "import numpy as np\n",
    "import os\n",
    "from skimage.transform import resize"
   ]
  },
  {
   "cell_type": "code",
   "execution_count": 3,
   "metadata": {},
   "outputs": [],
   "source": [
    "def get_img_from_fig(fig, dpi=180, output_height=829):\n",
    "    buf = io.BytesIO()\n",
    "    fig.savefig(buf, format=\"png\", dpi=180)\n",
    "    buf.seek(0)\n",
    "    img_arr = np.frombuffer(buf.getvalue(), dtype=np.uint8)\n",
    "    buf.close()\n",
    "    img = cv2.imdecode(img_arr, 1)\n",
    "    img = cv2.cvtColor(img, cv2.COLOR_BGR2RGB)\n",
    "    \n",
    "    width = int(img.shape[1] * output_height / img.shape[0])\n",
    "    dim = (width, output_height)\n",
    "    img = cv2.resize(img, dim, interpolation = cv2.INTER_AREA)\n",
    "    \n",
    "    return img\n",
    "\n",
    "def get_plot_as_fig(idx, file_path, y_axis_name=\"\"):\n",
    "    data = np.load(file_path, allow_pickle=True)\n",
    "    fig = plt.figure()\n",
    "    tmp = plt.xlabel('Iteration')\n",
    "    tmp = plt.ylabel(y_axis_name)\n",
    "    #tmp = plt.xlim(0, len(data))\n",
    "    tmp = plt.plot(data[:idx])\n",
    "    plt.close()\n",
    "    \n",
    "    return get_img_from_fig(fig)\n",
    "\n",
    "def extend_by_plots(img, idx, folder_name, to_height, filename):\n",
    "    \n",
    "    loss_plot   = get_plot_as_fig(idx, folder_name + \"/loss_plot.npy\", 'Loss')\n",
    "    #latent_plot = get_plot_as_fig(idx, folder_name + \"/latent_dist.npy\", 'Distance in latent space')\n",
    "    lr_plot     = get_plot_as_fig(idx, folder_name + \"/lr_plot.npy\", 'Latent Distance')\n",
    "    \n",
    "    z_img = cv2.cvtColor(cv2.imread( filename[:-4] + 'z' +  filename[-4:] ), cv2.COLOR_BGR2RGB)\n",
    "    y_img = cv2.cvtColor(cv2.imread( filename[:-4] + 'y' +  filename[-4:] ), cv2.COLOR_BGR2RGB)\n",
    "    \n",
    "    dim = (loss_plot.shape[1], loss_plot.shape[0])\n",
    "    z_img = cv2.resize(z_img, dim, interpolation = cv2.INTER_AREA)\n",
    "    y_img = cv2.resize(y_img, dim, interpolation = cv2.INTER_AREA)\n",
    "    \n",
    "    #top_row =  np.concatenate((loss_plot, latent_plot), axis=1)\n",
    "    top_row =  np.concatenate(( y_img, loss_plot ), axis=1)\n",
    "    bot_row =  np.concatenate(( z_img, lr_plot) , axis=1)\n",
    "\n",
    "    rates_frame = np.concatenate((top_row, bot_row), axis=0)\n",
    "    \n",
    "    width = 1250\n",
    "    dim = (width, to_height)\n",
    "    rates_frame = cv2.resize(rates_frame, dim, interpolation = cv2.INTER_AREA)\n",
    "\n",
    "    final_frame = np.concatenate((255 * img, rates_frame), axis=1)\n",
    "    \n",
    "    return final_frame"
   ]
  },
  {
   "cell_type": "code",
   "execution_count": 4,
   "metadata": {},
   "outputs": [],
   "source": [
    "def generate_video(folder_path, output='/report/optimization.avi', with_plots=False, height=1175):\n",
    "    try:\n",
    "        frames_path = os.path.join(folder_path, 'frames')\n",
    "        file_list = []\n",
    "\n",
    "        for file in os.listdir(frames_path):\n",
    "            if file.endswith(\".png\") and file[-5] not in ['z', 'y']:\n",
    "                file_list.append(os.path.join(frames_path, file))\n",
    "        file_list.sort()\n",
    "\n",
    "\n",
    "        T = len(file_list)\n",
    "        crops = []\n",
    "        for idx in tqdm(range(T)):\n",
    "            if with_plots:\n",
    "                crops.append(extend_by_plots( mpimg.imread(file_list[idx])[:,:,:3], \n",
    "                                              idx, folder_path, height, file_list[idx]))\n",
    "            else:\n",
    "                crops.append(255.0 * mpimg.imread(file_list[idx])[:,:,:3])\n",
    "    \n",
    "    except KeyboardInterrupt:\n",
    "        print(\"Paused\")\n",
    "\n",
    "    finally:\n",
    "        w, h, _ = crops[-1].shape\n",
    "        output_dim = (h, w)\n",
    "\n",
    "        writer = cv2.VideoWriter(folder_path + '/report/optimization.avi', \n",
    "                                 cv2.VideoWriter_fourcc(*'MJPG'), 2, output_dim, True)\n",
    "        for i in range(len(crops)):\n",
    "            #x = np.random.randint(255, size=(829, 851, 3)).astype('uint8')\n",
    "            x = crops[i][:,:,::-1].astype('uint8')\n",
    "            writer.write(x)\n",
    "        writer.release()\n",
    "        \n",
    "        print(\"Saved\")"
   ]
  },
  {
   "cell_type": "code",
   "execution_count": 5,
   "metadata": {},
   "outputs": [
    {
     "data": {
      "application/vnd.jupyter.widget-view+json": {
       "model_id": "55b988d4e2d2441f86c9efad927efe44",
       "version_major": 2,
       "version_minor": 0
      },
      "text/plain": [
       "HBox(children=(IntProgress(value=0, max=43), HTML(value='')))"
      ]
     },
     "metadata": {},
     "output_type": "display_data"
    },
    {
     "name": "stdout",
     "output_type": "stream",
     "text": [
      "\n",
      "Saved\n"
     ]
    }
   ],
   "source": [
    "generate_video(folder_path = \"../Expirements/SavedTransforms/DeepSDF-CFD8-m3-lift-drag/\", with_plots=True)"
   ]
  },
  {
   "cell_type": "code",
   "execution_count": 111,
   "metadata": {},
   "outputs": [
    {
     "data": {
      "application/vnd.jupyter.widget-view+json": {
       "model_id": "cfa450cfa7f0462b9ca89c262676120c",
       "version_major": 2,
       "version_minor": 0
      },
      "text/plain": [
       "HBox(children=(IntProgress(value=0, max=9), HTML(value='')))"
      ]
     },
     "metadata": {},
     "output_type": "display_data"
    },
    {
     "name": "stdout",
     "output_type": "stream",
     "text": [
      "\n",
      "Saved\n"
     ]
    }
   ],
   "source": [
    "generate_video(folder_path = \"../Expirements/SavedTransforms/DeepSDF-CFD8-car3-drag-max\", with_plots=True)"
   ]
  },
  {
   "cell_type": "code",
   "execution_count": 112,
   "metadata": {},
   "outputs": [
    {
     "data": {
      "application/vnd.jupyter.widget-view+json": {
       "model_id": "c0388a25a7754bbaaef5b9e70fa16496",
       "version_major": 2,
       "version_minor": 0
      },
      "text/plain": [
       "HBox(children=(IntProgress(value=0, max=29), HTML(value='')))"
      ]
     },
     "metadata": {},
     "output_type": "display_data"
    },
    {
     "name": "stdout",
     "output_type": "stream",
     "text": [
      "\n",
      "Saved\n"
     ]
    }
   ],
   "source": [
    "generate_video(folder_path=\"../Expirements/SavedTransforms/DeepSDF-CFD8-car3-lift-min/\", with_plots=True)"
   ]
  },
  {
   "cell_type": "code",
   "execution_count": null,
   "metadata": {},
   "outputs": [],
   "source": []
  }
 ],
 "metadata": {
  "kernelspec": {
   "display_name": "Python 3",
   "language": "python",
   "name": "python3"
  },
  "language_info": {
   "codemirror_mode": {
    "name": "ipython",
    "version": 3
   },
   "file_extension": ".py",
   "mimetype": "text/x-python",
   "name": "python",
   "nbconvert_exporter": "python",
   "pygments_lexer": "ipython3",
   "version": "3.6.9"
  }
 },
 "nbformat": 4,
 "nbformat_minor": 4
}
